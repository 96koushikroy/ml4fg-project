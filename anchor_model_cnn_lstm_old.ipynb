{
 "cells": [
  {
   "cell_type": "code",
   "execution_count": 1,
   "metadata": {},
   "outputs": [
    {
     "data": {
      "text/plain": [
       "<torch._C.Generator at 0x7f603807fa90>"
      ]
     },
     "execution_count": 1,
     "metadata": {},
     "output_type": "execute_result"
    }
   ],
   "source": [
    "import torch\n",
    "import torch.nn as nn\n",
    "import torch.utils.data\n",
    "import torch.nn.functional as F\n",
    "import numpy as np\n",
    "import pandas as pd\n",
    "import timeit\n",
    "import tqdm\n",
    "import sklearn.metrics\n",
    "import math\n",
    "\n",
    "torch.manual_seed(2)"
   ]
  },
  {
   "cell_type": "code",
   "execution_count": 2,
   "metadata": {},
   "outputs": [],
   "source": [
    "%load_ext Cython"
   ]
  },
  {
   "cell_type": "code",
   "execution_count": 3,
   "metadata": {},
   "outputs": [],
   "source": [
    "%%cython\n",
    "\n",
    "import numpy as np\n",
    "np.get_include() # do we need this on colab? \n",
    "cimport cython\n",
    "cimport numpy as np\n",
    "\n",
    "cdef dict bases={ 'A':<int>0, 'C':<int>1, 'G':<int>2, 'T':<int>3, 'N':<int>4, } \n",
    "\n",
    "@cython.boundscheck(False)\n",
    "def one_hot( str string ):\n",
    "    cdef np.ndarray[np.float32_t, ndim=2] res = np.zeros( (5,len(string)), dtype=np.float32 )\n",
    "    cdef int j\n",
    "    for j in range(len(string)):\n",
    "        if string[j] in bases: # bases can be 'N' signifying missing: this corresponds to all 0 in the encoding\n",
    "            res[ bases[ string[j] ], j ]=float(1.0)\n",
    "    return(res)\n"
   ]
  },
  {
   "cell_type": "code",
   "execution_count": 4,
   "metadata": {},
   "outputs": [
    {
     "name": "stdout",
     "output_type": "stream",
     "text": [
      "torch.Size([5, 19])\n"
     ]
    },
    {
     "data": {
      "text/plain": [
       "tensor([1., 4., 7., 0., 7.])"
      ]
     },
     "execution_count": 4,
     "metadata": {},
     "output_type": "execute_result"
    }
   ],
   "source": [
    "x_np = one_hot(\"CCGCGNGGNGGCAGNNNNN\") #ACGTN\n",
    "x_tensor = torch.tensor(x_np)\n",
    "print(x_tensor.shape)\n",
    "torch.sum(x_tensor, 1)"
   ]
  },
  {
   "cell_type": "code",
   "execution_count": 5,
   "metadata": {},
   "outputs": [],
   "source": [
    "data_dir = './data/'\n",
    "train_data = pd.read_csv(data_dir + 'anchor_datasets/anchor_master_train.csv')\n",
    "val_data = pd.read_csv(data_dir + 'anchor_datasets/anchor_master_val.csv')\n",
    "test_data = pd.read_csv(data_dir + 'anchor_datasets/anchor_master_test.csv')"
   ]
  },
  {
   "cell_type": "code",
   "execution_count": 6,
   "metadata": {},
   "outputs": [
    {
     "data": {
      "text/html": [
       "<div>\n",
       "<style scoped>\n",
       "    .dataframe tbody tr th:only-of-type {\n",
       "        vertical-align: middle;\n",
       "    }\n",
       "\n",
       "    .dataframe tbody tr th {\n",
       "        vertical-align: top;\n",
       "    }\n",
       "\n",
       "    .dataframe thead th {\n",
       "        text-align: right;\n",
       "    }\n",
       "</style>\n",
       "<table border=\"1\" class=\"dataframe\">\n",
       "  <thead>\n",
       "    <tr style=\"text-align: right;\">\n",
       "      <th></th>\n",
       "      <th>Unnamed: 0</th>\n",
       "      <th>chrom</th>\n",
       "      <th>start</th>\n",
       "      <th>end</th>\n",
       "      <th>anchor</th>\n",
       "    </tr>\n",
       "  </thead>\n",
       "  <tbody>\n",
       "    <tr>\n",
       "      <th>0</th>\n",
       "      <td>22021</td>\n",
       "      <td>chr12</td>\n",
       "      <td>54686154</td>\n",
       "      <td>54690154</td>\n",
       "      <td>1.0</td>\n",
       "    </tr>\n",
       "    <tr>\n",
       "      <th>1</th>\n",
       "      <td>9664</td>\n",
       "      <td>chr5</td>\n",
       "      <td>32470089</td>\n",
       "      <td>32474089</td>\n",
       "      <td>1.0</td>\n",
       "    </tr>\n",
       "    <tr>\n",
       "      <th>2</th>\n",
       "      <td>11985</td>\n",
       "      <td>chr6</td>\n",
       "      <td>42035500</td>\n",
       "      <td>42039500</td>\n",
       "      <td>1.0</td>\n",
       "    </tr>\n",
       "    <tr>\n",
       "      <th>3</th>\n",
       "      <td>28325</td>\n",
       "      <td>chr17</td>\n",
       "      <td>62933100</td>\n",
       "      <td>62937100</td>\n",
       "      <td>1.0</td>\n",
       "    </tr>\n",
       "    <tr>\n",
       "      <th>4</th>\n",
       "      <td>1887</td>\n",
       "      <td>chr1</td>\n",
       "      <td>153371013</td>\n",
       "      <td>153375013</td>\n",
       "      <td>1.0</td>\n",
       "    </tr>\n",
       "  </tbody>\n",
       "</table>\n",
       "</div>"
      ],
      "text/plain": [
       "   Unnamed: 0  chrom      start        end  anchor\n",
       "0       22021  chr12   54686154   54690154     1.0\n",
       "1        9664   chr5   32470089   32474089     1.0\n",
       "2       11985   chr6   42035500   42039500     1.0\n",
       "3       28325  chr17   62933100   62937100     1.0\n",
       "4        1887   chr1  153371013  153375013     1.0"
      ]
     },
     "execution_count": 6,
     "metadata": {},
     "output_type": "execute_result"
    }
   ],
   "source": [
    "train_data.head()"
   ]
  },
  {
   "cell_type": "code",
   "execution_count": 7,
   "metadata": {},
   "outputs": [],
   "source": [
    "import pickle\n",
    "genome = pickle.load(open(data_dir+\"hg38-003.pkl\",\"rb\"))"
   ]
  },
  {
   "cell_type": "code",
   "execution_count": 8,
   "metadata": {
    "scrolled": true
   },
   "outputs": [
    {
     "data": {
      "text/plain": [
       "'GGGACTACAGGTGCCCACTACCACGCCTGGCTAATTTTTTGTATTTTCAGTAGAGACGGGGTTTCACTGTGTTAGCCAGGATGGTCTCGATCTCCTGACCTCGTGATCCGCCCACCTCAGCCTCCCAAAGTGCTAGGATTACAGGTGTTAGCCACCGTGCCCAGCTAGTTTCTTTTCTTTTCTTTTTTTTTTTTTGAGCCGGAGTCTCACTCTGTCTCCCAGGCCAGAGTACAGTAGCGCGATCTCGGCTCACTGCAACCTCCACCTCCAGGGTTCAAGCAATTCTCCTGCCTCAGCCTCCCAAGTAGCTGGGATTACAGACACCCGCCACAACGCCTGGCTAATTTTTGTATTTTTAGTAGAGACGGGGTTTCACCATTTTGGCCAGGCTGGTTTTGAACTCCTGACTTTGTGATCCCCCCACCTCGGCCTCCCAAAGTGCTGGGATTATAGGTGTGAGCCATCACTCCCGGCCTAAAAATTATTATTATTATTTTGGGTTTTTTTTGAGACAGAGTCTTGCTCTGTCACCCAGGCTGGAGTGCATTGGCCCAATGTTAGCTTGCTGCGCAACCTCTGCCTCTCGGGTTCAAGCGATTCTGCTGCCTCCACCTCCCAAGTAGTTGGGATTATAGGCATGTGCCATCATGCCCAGCTAATTCTTGTATTTTCAGTAGACATGTGGTTTCACCATGTTGGCCAGGCTAGTCCTGAACTCCTGACCTCAAGTGATCCATCTGCCTCGGCCTCCCAAAGTGCTGGGATTACAGGTGTGAGCCACCATGCCTGGCCTAAAAATTATTATTTATATATATATATATATAAAATATATATATGGAGCCTTGCTCTTGTTGCCCAGGCTGGAGTGCATATATACTATATATATATATATATATATATATATTTTTTTTTTTTTTTTTTTTTTTTGACACAGGGTCTCCCTCTGTCACCCAGGCTGGAGTGCAGTGGCACAATCACTACTCACTGCAGCCTCCACCTCCCAGGTTCAAGCAATCCTCCCACCTCAGCCTCCTCCTGGTCTACAGGCGCACACCACCAAGCCTGGCTAAGTTTTGGGTCTTTTGTAGAGACAAAATTTTGCCATGTTGTCTAGGCTGGTCTCCAACTCCTGGGCTCAAGTTATCTGCCCGCCTTGGCCTCCCAAAGTGCTGAGATTACAGGCATGAGCCACTGTGCCTGGCCAGTCCTCTCTTTTCTAATGAGATACCTGCCTGAGGCCAAATTTTCTTCATATACATCAATGAAAACATATTGCAACAGATTAAATCAGAAACTGATGAAAATCCAGCTGTCTTCTATGAAGTCAGGCATTAACGAGATTTGCAAAAATGTAAAACAAGGCTATACTTCTCATTATTTTTGTTTTGGAAAATAGTTTTCATTTAAAAAAATACAATGCTTATGGATTTTTTGTTTTGTTTTGTTTTGTTTTTTTGAGACAGACTCTTGCTCTGTCACCCAGGCTGGAATGCAGTGGCGTGATCTCAGCTCACTGCAAGCTCCGCCTCTCGGGTTCACGCCATTCTCCTGCCTCAGCCTCCCGAGTAGCTGGGACTAAAGGTGCCCGCCACCACACCTGGCTAATTTTTCTGTATTTTTCAGTAGAGACAGGGTTTCACTGTGTTAGCCAGGATGGTCTCGATCTCCTGACCTCGTGATCCACCCGCCTTGGCCTCCCAAAGTGTTGGGATTACAGGCGTGAGCCACTGTGCCCGGCCGTTTTGTTTTTTTTTTTAAGACGGAGTCTCGCTTTGCCACCAGGCTGGAGTGCAGTGGCACGATCTCGGCTCACTGCAACCTCTGACTCCCTGGTTCAAGCGATTCTCCTGCCTCAGCCTCCCAAGTAGCTGGGACTACAGGCATGCACGACCATGCCCAGCTAATTTTTGTATTTTTAGTAGAGACGGTTTTCAACATATTGGCCAGGATGGTCTCAATCTCTCGACCTTGTGATCCGCCCGCCTCGGCCTCCCAAAGTGCTGGGATTACAGGCGTGAGCCACCGCGCCTGGCCAAAAAAAAATTACAATGCTTATGTTAACATGCAATGAGTTTCTTATTGTTACTTTAAATAAATTAATATTTAAAATTTCTCATATCAAATTTTTTATCAGAAACAAAATAACAACAGGTATAGGGAGGGACAAGTCAAAAGCTTATATTATTTATTCCAGGGAATGCCATGTCGGGTGCACCGATTATTAGGTATAGCCTAAAAAACAAAAGTTCTGGCCAGGCATAGTGGCATGCGCCTGTAATCACAGCACTTTGGGAGGCCGAGGCGGACGGATCATGAGGTCAGGAGTTCAAGACTAGTCTGACCAAAATGGTGAAACCCTGTCTCTAATAAAAATACAAAAATTAGCTGGGTGTGGTCGCACATGCCTGTAATCCCAGCTACTCAGGAGGCTGAGGCACGAGAATCGCTTGAACCCGGGAGGCGGAGGTTGCAGTGAGCCGAGATTGCGCCATTGCACTCCACCCTGGGCGACAGAGTGAGACTCGGTCTCAAAAAAAAAAAAAAAAAAAAGTTCTTTGGGATCCTCAATAATTTTTCAGAATGTAAAGTGGTCCTGAGATCAGAAGGCTTAAAAATTGCTGCAGCAGACCTAATATGTCAGTCTCTAAAATGCCCAATTCCAAGCCTGGTTATCTAGTTCTTGGTATTCTTTACCCTTATTCACATTTTTACCTCTTGGCCCCATTGTGCTGCTGGATTTTTTTTAACTATATTAGGGCAGGGTGCAGTGGCTCACATCTGTAATACCAGCACTTTGGGTGGCCAAGGTGGGCAGATCGCTTGAGCCCAGGAGTTCAAGACCAGCCTGCGCAACATGGCAAAACCCTGTCTCCACCAAAAATACAAAAAATTAACTGGGCGTGGTGGCTTGTGCCTGTGGTCCCAGTTACTTGGGAGGTTGAGGCAGGAGAACTGCTTGAGCCCAGGAGGCAGGAGCTGCAGTGAGCTGAGACTGTGCCACTACACTCTAGCCTGGGTGACAGAGTGAGACCCCATCTCAACTAAAAAAAAAAAAAAGCAAGAAGAGGGCATATCAAAAATAATCATTGTTCTACAAATAATAGTGATTATAGAAATAACCACTAGTTCTTTTAGAAATAAGAAATAATCAGTAATACTATAGAAAAAGAATAAGAAATAAGCCTAATAATTGCCATAGAAATAACATAAAAATTATTTCTATAATATGGCCTTCAGTAAAAAACTCAGAACATTCAGAAGAGTAAAAAGACCCAAAAGCAACCACCATTTAAAACTGCTCCGGAATAATTTCTCATCTAATCCATTCTTCTTTTATCTCCTCAAATGGCACCTTTGAGAAGAAATTCCTGGTTAACCCATGCAAAAGCAACCACTCCTTCCTCCAGATTCCCACAGCATTGTAGTTGAAACCTTTCTTGAGGCCCAGCTAGACCATAAAAGTATGCATACTGAATTCCTAAATGTGCATATTTAACGGTCATAAATTCAGTTATATCTACTGGAAGAGACACCAACCAACCACAGAAACCTATGTACTATTTATATGATGTGATCCCTTCACCCAGGCTTAACATAATGCTTAACCAAAGACCAGAGCCTGTGTTCCAACAAAAACTGGCCATGCTGAGGAATCTTAGAAATGGAAGAGAATGTCCAAATCATGTATCCTGTGTTTTATGAGCAGTCTCTTTAAAATAGAGACTTTAATAGTAACTTTGATGTGTGTCTTGTTTTTACACTGACTTTGAACCCAACACTGTGTCAAATGTGGCTCCACTACATGAAGAATGGACAAGTGAATGGTTCCAAGGCCTCTGAGACTTACAGATGTTGGATGAATATACTAGGTGACTGAGCCCAGGAGTCCTCGACCCATGTAGTCCTGTCCTCTGGACAGGGTATGTGGCATCCCCTCTAGGCCAGGGCTGCCACCCATTGCTGGGTGAAGGTCTCAGGTGTCACTTGAAGGCCAAGGTGA'"
      ]
     },
     "execution_count": 8,
     "metadata": {},
     "output_type": "execute_result"
    }
   ],
   "source": [
    "genome[\"chr6\"][42035500:42039500]"
   ]
  },
  {
   "cell_type": "code",
   "execution_count": 9,
   "metadata": {},
   "outputs": [
    {
     "data": {
      "text/plain": [
       "133797422"
      ]
     },
     "execution_count": 9,
     "metadata": {},
     "output_type": "execute_result"
    }
   ],
   "source": [
    "len(genome[\"chr10\"])"
   ]
  },
  {
   "cell_type": "code",
   "execution_count": 9,
   "metadata": {
    "scrolled": true
   },
   "outputs": [
    {
     "data": {
      "text/plain": [
       "0.125"
      ]
     },
     "execution_count": 9,
     "metadata": {},
     "output_type": "execute_result"
    }
   ],
   "source": [
    "cnt=0\n",
    "\n",
    "context_length = 4000\n",
    "for i,row in enumerate(val_data.itertuples()):\n",
    "    midpoint = int(.5 * (row.start + row.end))\n",
    "    seq = genome[row.chrom][midpoint - context_length//2:midpoint + context_length//2]\n",
    "    if(np.isnan(row.anchor)):\n",
    "        cnt += 1\n",
    "    else:\n",
    "        pass\n",
    "#         seq2 = genome[row.chrom][row.start:row.end]\n",
    "#         print(len(seq),len(seq2), row.anchor, len(genome[row.chrom]))\n",
    "cnt/len(val_data)"
   ]
  },
  {
   "cell_type": "code",
   "execution_count": 10,
   "metadata": {},
   "outputs": [],
   "source": [
    "# class AnchorDataset(torch.utils.data.IterableDataset):\n",
    "\n",
    "#     def __init__(self, anchor_data, genome, rnn_length):\n",
    "#         super().__init__()\n",
    "#         self.rnn_len = rnn_length\n",
    "#         self.anchor_data = anchor_data\n",
    "#         self.genome = genome\n",
    "#         self.context_len = 4000\n",
    "        \n",
    "#     def __iter__(self): \n",
    "#         for i,row in enumerate(self.anchor_data.itertuples()):\n",
    "#             lab = row.anchor\n",
    "#             midpoint = int(.5 * (row.start + row.end))\n",
    "#             seq = self.genome[row.chrom][ midpoint - self.context_len//2:midpoint + self.context_len//2]\n",
    "#             if len(seq) < self.context_len:\n",
    "#                 continue\n",
    "            \n",
    "#             oh_cnn_seq = one_hot(seq).transpose() # 4k, 5\n",
    "#             #for rnn\n",
    "#             rnn_start = int(self.context_len / 2 - self.rnn_len / 2)\n",
    "#             rnn_end = int(self.context_len / 2 + self.rnn_len / 2)\n",
    "#             rnn_seq = seq[rnn_start: rnn_end]\n",
    "#             oh_rnn_seq = one_hot(rnn_seq).transpose()\n",
    "            \n",
    "#             yield(oh_cnn_seq, oh_rnn_seq, np.float32(lab))\n",
    "            "
   ]
  },
  {
   "cell_type": "code",
   "execution_count": 11,
   "metadata": {},
   "outputs": [],
   "source": [
    "class AnchorDataset(torch.utils.data.Dataset):\n",
    "\n",
    "    def __init__(self, anchor_data, genome, rnn_length, test_set=False):\n",
    "        super().__init__()\n",
    "        self.rnn_len = rnn_length\n",
    "        self.anchor_data = anchor_data\n",
    "        self.genome = genome\n",
    "        self.test_set = test_set\n",
    "        self.context_len = 4000\n",
    "        self.processed_data = []\n",
    "        \n",
    "        print('Preparing a dataset...')\n",
    "        for i,row in tqdm.tqdm(enumerate(self.anchor_data.itertuples()), total=len(anchor_data)):\n",
    "            lab = row.anchor if self.test_set == False else 0\n",
    "            midpoint = int(.5 * (row.start + row.end))\n",
    "            seq = self.genome[row.chrom][ midpoint - self.context_len//2:midpoint + self.context_len//2]\n",
    "            if len(seq) < self.context_len or np.isnan(lab):\n",
    "                continue\n",
    "            \n",
    "            oh_cnn_seq = one_hot(seq).transpose() # 4k, 5\n",
    "            #for rnn\n",
    "            rnn_start = int(self.context_len / 2 - self.rnn_len / 2)\n",
    "            rnn_end = int(self.context_len / 2 + self.rnn_len / 2)\n",
    "            rnn_seq = seq[rnn_start: rnn_end]\n",
    "            oh_rnn_seq = one_hot(rnn_seq).transpose()\n",
    "            self.processed_data.append((oh_cnn_seq, oh_rnn_seq, np.float32(lab)))\n",
    "        \n",
    "        \n",
    "    def __len__(self): \n",
    "        return len(self.processed_data)\n",
    "    \n",
    "    def __getitem__(self, idx): \n",
    "        return self.processed_data[idx]\n",
    "            "
   ]
  },
  {
   "cell_type": "code",
   "execution_count": 12,
   "metadata": {},
   "outputs": [],
   "source": [
    "class Anchor_LSTM_Model(nn.Module):\n",
    "    def __init__(self, in_dim=5, hid_dim=128, out_dim=1):\n",
    "        super().__init__()\n",
    "        self.lstm1 = nn.LSTM(in_dim, hid_dim, batch_first=True, bidirectional=True)\n",
    "        self.lstm2 = nn.LSTM(hid_dim * 2, hid_dim, batch_first=True, bidirectional=True)\n",
    "        self.fc = nn.Linear(hid_dim * 2, out_dim)\n",
    "        \n",
    "    def forward(self, x):\n",
    "        batch_size = x.shape[0]\n",
    "        x, _ = self.lstm1(x)\n",
    "        x, _ = self.lstm2(x)\n",
    "        return self.fc(x).view(batch_size, -1)\n",
    "\n",
    "    \n",
    "class Anchor_CNN_Model(nn.Module):\n",
    "    def __init__(self, layer1_out=256, layer2_out=512, dropout=0.2):\n",
    "        super().__init__()\n",
    "        self.seq_len = 4000\n",
    "        \n",
    "        self.layer1 = nn.Sequential(\n",
    "                        nn.Conv2d(in_channels=1, out_channels=layer1_out, kernel_size=(17,5)),\n",
    "                        nn.BatchNorm2d(layer1_out),\n",
    "                        nn.LeakyReLU(0.2),\n",
    "                        nn.Dropout2d(dropout),\n",
    "                    )\n",
    "        \n",
    "        #dilated conv dilation=1\n",
    "        self.layer2_1 = nn.Sequential(\n",
    "                        nn.Conv2d(in_channels=layer1_out, out_channels=layer2_out, kernel_size=(5,1), dilation=1, padding='same'),\n",
    "                        nn.BatchNorm2d(layer2_out),\n",
    "                        nn.LeakyReLU(0.2),\n",
    "                        nn.MaxPool2d(kernel_size=(self.seq_len - 16, 1), stride=(self.seq_len - 16, 1)),\n",
    "                        nn.Dropout2d(dropout),\n",
    "                    )\n",
    "        \n",
    "        #dilated conv dilation=3\n",
    "        self.layer2_2 = nn.Sequential(\n",
    "                        nn.Conv2d(in_channels=layer1_out, out_channels=layer2_out, kernel_size=(5,1), dilation=3, padding='same'),\n",
    "                        nn.BatchNorm2d(layer2_out),\n",
    "                        nn.LeakyReLU(0.2),\n",
    "                        nn.MaxPool2d(kernel_size=(self.seq_len - 16, 1), stride=(self.seq_len - 16, 1)),\n",
    "                        nn.Dropout2d(dropout),\n",
    "                    )\n",
    "        \n",
    "        #dilated conv dilation=7\n",
    "        self.layer2_3 = nn.Sequential(\n",
    "                        nn.Conv2d(in_channels=layer1_out, out_channels=layer2_out, kernel_size=(5,1), dilation=7, padding='same'),\n",
    "                        nn.BatchNorm2d(layer2_out),\n",
    "                        nn.LeakyReLU(0.2),\n",
    "                        nn.MaxPool2d(kernel_size=(self.seq_len - 16, 1), stride=(self.seq_len - 16, 1)),\n",
    "                        nn.Dropout2d(dropout),\n",
    "                    )\n",
    "        \n",
    "    def forward(self, x):\n",
    "        x = x.unsqueeze(1) #[*, 1, 4k, 5]\n",
    "        batch_size = x.shape[0]\n",
    "        x = self.layer1(x)\n",
    "        o1 = self.layer2_1(x).view(batch_size, -1)\n",
    "        o2 = self.layer2_2(x).view(batch_size, -1)\n",
    "        o3 = self.layer2_3(x).view(batch_size, -1)\n",
    "        out = torch.cat((o1,o2,o3), -1)\n",
    "        return out\n",
    "        \n",
    "        \n",
    "class Anchor_CNN_LSTM(nn.Module):\n",
    "    def __init__(self,\n",
    "                 use_lstm=True,\n",
    "                 use_cnn=True):\n",
    "        super().__init__()\n",
    "        \n",
    "        out_dim = 0\n",
    "        self.use_lstm = use_lstm\n",
    "        self.use_cnn = use_cnn\n",
    "        \n",
    "        if use_lstm == True:\n",
    "            self.lstm_model = Anchor_LSTM_Model()\n",
    "            out_dim += 800\n",
    "            \n",
    "        if use_cnn == True:\n",
    "            self.cnn_model = Anchor_CNN_Model()\n",
    "            out_dim += 1536\n",
    "        \n",
    "        \n",
    "        self.classifier = nn.Sequential(\n",
    "                            nn.Linear(out_dim, 512),\n",
    "                            nn.BatchNorm1d(512),\n",
    "                            nn.LeakyReLU(0.2),\n",
    "                            nn.Dropout(0.2),\n",
    "            \n",
    "                            nn.Linear(512, 256),\n",
    "                            nn.BatchNorm1d(256),\n",
    "                            nn.LeakyReLU(0.2),\n",
    "                            nn.Dropout(0.2),\n",
    "                            \n",
    "                            nn.Linear(256, 1),\n",
    "                            nn.Sigmoid()\n",
    "                        )\n",
    "\n",
    "    def forward(self, x_cnn, x_rnn):\n",
    "        if self.use_lstm == True and self.use_cnn == True:\n",
    "            x2 = self.cnn_model(x_cnn)\n",
    "            x1 = self.lstm_model(x_rnn)\n",
    "            x = torch.cat((x2, x1), -1)\n",
    "        elif self.use_lstm == True:\n",
    "            x = self.lstm_model(x_rnn)\n",
    "\n",
    "        out = self.classifier(x)\n",
    "\n",
    "        return out\n",
    "        "
   ]
  },
  {
   "cell_type": "code",
   "execution_count": 84,
   "metadata": {},
   "outputs": [],
   "source": [
    "# batch_size = 64\n",
    "# train_dataset = AnchorDataset(train_data, genome, 800)\n",
    "# train_dataloader = torch.utils.data.DataLoader(train_dataset, batch_size=batch_size, num_workers = 0) 72302\n",
    "\n",
    "# val_dataset = AnchorDataset(val_data, genome, 800)\n",
    "# val_dataloader = torch.utils.data.DataLoader(val_dataset, batch_size=batch_size, num_workers = 0) 1600\n",
    "\n",
    "# test_dataset = AnchorDataset(test_data, genome, 800)\n",
    "# test_dataloader = torch.utils.data.DataLoader(test_dataset, batch_size=batch_size, num_workers = 0) 5670\n"
   ]
  },
  {
   "cell_type": "code",
   "execution_count": 85,
   "metadata": {},
   "outputs": [],
   "source": [
    "def run_one_epoch(train_flag, dataloader, cnn_1d, optimizer, device, dataset_size, epoch):\n",
    "\n",
    "    torch.set_grad_enabled(train_flag)\n",
    "    cnn_1d.train() if train_flag else cnn_1d.eval() \n",
    "\n",
    "    losses = []\n",
    "#     accuracies = []\n",
    "#     auprcs = []\n",
    "    \n",
    "    all_ys = []\n",
    "    all_probs = []\n",
    "    \n",
    "    with tqdm.tqdm(enumerate(dataloader), total=(dataset_size), unit=\"batch\") as tepoch:\n",
    "        for idx, (x_cnn, x_rnn, y) in tepoch: #tqdm.tqdm(enumerate(dataloader), total=dataset_size): # collection of tuples with iterator\n",
    "            tepoch.set_description(f\"Epoch {epoch+1}\")\n",
    "            (x_cnn, x_rnn, y) = ( x_cnn.to(device), x_rnn.to(device), y.to(device) ) # transfer data to GPU\n",
    "\n",
    "            output = cnn_1d(x_cnn, x_rnn) # forward pass\n",
    "            output = output.squeeze() # remove spurious channel dimension\n",
    "            loss = F.binary_cross_entropy( output, y ) # numerically stable\n",
    "\n",
    "            if train_flag: \n",
    "                loss.backward() # back propagation\n",
    "                optimizer.step()\n",
    "                optimizer.zero_grad()\n",
    "\n",
    "            losses.append(loss.detach().cpu().numpy())\n",
    "            accuracy = torch.mean( ( (output > .5) == (y > .5) ).float() )\n",
    "#             print('idx',idx, loss.item(), y, output)\n",
    "\n",
    "            y_np = y.detach().cpu().numpy()\n",
    "            probs_np = output.detach().cpu().numpy()\n",
    "        \n",
    "#             auprc = sklearn.metrics.average_precision_score(y_np, probs_np)\n",
    "#             auprcs.append(auprc)\n",
    "#             accuracies.append(accuracy.detach().cpu().numpy())\n",
    "            \n",
    "            all_ys.extend(y_np.tolist())\n",
    "            all_probs.extend(probs_np.tolist())\n",
    "            \n",
    "            tepoch.set_postfix(loss=loss.item(), batch_accuracy=100. * accuracy.detach().cpu().numpy())#, batch_auprc=100. * auprc)\n",
    "            \n",
    "    all_ys = np.array(all_ys)\n",
    "    all_probs = np.array(all_probs)\n",
    "    precision, recall, thresholds = sklearn.metrics.precision_recall_curve(all_ys, all_probs)\n",
    "    epoch_acc = np.mean( ( (all_probs > .5) == (all_ys > .5) ) )\n",
    "    \n",
    "    return( np.mean(losses), epoch_acc, precision, recall)"
   ]
  },
  {
   "cell_type": "code",
   "execution_count": 57,
   "metadata": {},
   "outputs": [],
   "source": [
    "def train_model(cnn_1d, train_data, validation_data, epochs=15, patience=4, verbose = True):\n",
    "    \n",
    "    device = torch.device(\"cuda\" if torch.cuda.is_available() else \"cpu\")\n",
    "    cnn_1d = cnn_1d.to(device)\n",
    "\n",
    "    batch_size = 64\n",
    "    train_dataset = AnchorDataset(train_data, genome, 800)\n",
    "    train_dataloader = torch.utils.data.DataLoader(train_dataset, batch_size=batch_size, num_workers = 0, shuffle=True)\n",
    "    \n",
    "    val_dataset = AnchorDataset(val_data, genome, 800)\n",
    "    val_dataloader = torch.utils.data.DataLoader(val_dataset, batch_size=batch_size, num_workers = 0)\n",
    "\n",
    "    optimizer = torch.optim.RMSprop(cnn_1d.parameters())\n",
    "    \n",
    "    train_accs = []\n",
    "    val_accs = []\n",
    "    patience_counter = patience\n",
    "    best_val_loss = np.inf\n",
    "    check_point_filename = 'anchor_model_checkpoint_lstm.pt' # to save the best model fit to date\n",
    "    for epoch in range(epochs):\n",
    "        start_time = timeit.default_timer()\n",
    "        \n",
    "        train_loss, train_acc, train_pr, train_rec = run_one_epoch(True, train_dataloader, cnn_1d, optimizer, device, math.ceil(len(train_dataset)/batch_size), epoch)\n",
    "        val_loss, val_acc, val_pr, val_rec = run_one_epoch(False, val_dataloader, cnn_1d, optimizer, device, math.ceil(len(val_dataset)/batch_size), epoch)\n",
    "        \n",
    "        train_accs.append(train_acc)\n",
    "        val_accs.append(val_acc)\n",
    "        \n",
    "        if val_loss < best_val_loss: \n",
    "            torch.save(cnn_1d.state_dict(), check_point_filename)\n",
    "            best_val_loss = val_loss\n",
    "            patience_counter = patience\n",
    "        else: \n",
    "            patience_counter -= 1\n",
    "            if patience_counter <= 0: \n",
    "                cnn_1d.load_state_dict(torch.load(check_point_filename)) # recover the best model so far\n",
    "                break\n",
    "        elapsed = float(timeit.default_timer() - start_time)\n",
    "        \n",
    "        if verbose == True:\n",
    "            train_auprc = sklearn.metrics.auc(train_rec, train_pr)\n",
    "            val_auprc = sklearn.metrics.auc(val_rec, val_pr)\n",
    "            print(\"Epoch %i took %.2fs. Train loss: %.4f acc: %.4f. auprc: %.4f. Val loss: %.4f acc: %.4f. auprc: %.4f. Patience left: %i\" % \n",
    "                  (epoch+1, elapsed, train_loss, train_acc, train_auprc, val_loss, val_acc, val_auprc, patience_counter ))\n",
    "    \n",
    "    return cnn_1d, train_accs, val_accs"
   ]
  },
  {
   "cell_type": "code",
   "execution_count": 58,
   "metadata": {
    "scrolled": true
   },
   "outputs": [
    {
     "name": "stderr",
     "output_type": "stream",
     "text": [
      "  0%|          | 169/72500 [00:00<00:43, 1680.10it/s]"
     ]
    },
    {
     "name": "stdout",
     "output_type": "stream",
     "text": [
      "Preparing a dataset...\n"
     ]
    },
    {
     "name": "stderr",
     "output_type": "stream",
     "text": [
      "100%|██████████| 72500/72500 [00:43<00:00, 1685.87it/s] \n",
      "  8%|▊         | 120/1600 [00:00<00:01, 1199.21it/s]"
     ]
    },
    {
     "name": "stdout",
     "output_type": "stream",
     "text": [
      "Preparing a dataset...\n"
     ]
    },
    {
     "name": "stderr",
     "output_type": "stream",
     "text": [
      "100%|██████████| 1600/1600 [00:01<00:00, 1250.28it/s]\n",
      "Epoch 0: 100%|██████████| 904/904 [15:59<00:00,  1.06s/batch, batch_accuracy=80, loss=0.406]  \n",
      "Epoch 0: 100%|██████████| 22/22 [00:09<00:00,  2.44batch/s, batch_accuracy=98.2, loss=0.238]\n",
      "Epoch 1:   0%|          | 0/904 [00:00<?, ?batch/s]"
     ]
    },
    {
     "name": "stdout",
     "output_type": "stream",
     "text": [
      "Epoch 1 took 968.75s. Train loss: 0.5061 acc: 0.7577. auprc: 0.8383. Val loss: 0.4183 acc: 0.8064. auprc: 0.9493. Patience left: 4\n"
     ]
    },
    {
     "name": "stderr",
     "output_type": "stream",
     "text": [
      "Epoch 1: 100%|██████████| 904/904 [15:59<00:00,  1.06s/batch, batch_accuracy=80, loss=0.195]  \n",
      "Epoch 1: 100%|██████████| 22/22 [00:09<00:00,  2.43batch/s, batch_accuracy=100, loss=0.00846]\n",
      "Epoch 2:   0%|          | 0/904 [00:00<?, ?batch/s]"
     ]
    },
    {
     "name": "stdout",
     "output_type": "stream",
     "text": [
      "Epoch 2 took 968.58s. Train loss: 0.3959 acc: 0.8216. auprc: 0.9034. Val loss: 0.9885 acc: 0.5643. auprc: 0.9534. Patience left: 3\n"
     ]
    },
    {
     "name": "stderr",
     "output_type": "stream",
     "text": [
      "Epoch 2: 100%|██████████| 904/904 [15:59<00:00,  1.06s/batch, batch_accuracy=80, loss=0.306]  \n",
      "Epoch 2: 100%|██████████| 22/22 [00:09<00:00,  2.44batch/s, batch_accuracy=85.7, loss=0.331]\n",
      "Epoch 3:   0%|          | 0/904 [00:00<?, ?batch/s]"
     ]
    },
    {
     "name": "stdout",
     "output_type": "stream",
     "text": [
      "Epoch 3 took 968.81s. Train loss: 0.3668 acc: 0.8364. auprc: 0.9180. Val loss: 0.4158 acc: 0.8214. auprc: 0.9465. Patience left: 4\n"
     ]
    },
    {
     "name": "stderr",
     "output_type": "stream",
     "text": [
      "Epoch 3: 100%|██████████| 904/904 [15:59<00:00,  1.06s/batch, batch_accuracy=90, loss=0.285]  \n",
      "Epoch 3: 100%|██████████| 22/22 [00:09<00:00,  2.43batch/s, batch_accuracy=100, loss=0.0194]\n",
      "Epoch 4:   0%|          | 0/904 [00:00<?, ?batch/s]"
     ]
    },
    {
     "name": "stdout",
     "output_type": "stream",
     "text": [
      "Epoch 4 took 968.82s. Train loss: 0.3536 acc: 0.8419. auprc: 0.9238. Val loss: 0.7629 acc: 0.6443. auprc: 0.9583. Patience left: 3\n"
     ]
    },
    {
     "name": "stderr",
     "output_type": "stream",
     "text": [
      "Epoch 4: 100%|██████████| 904/904 [15:58<00:00,  1.06s/batch, batch_accuracy=100, loss=0.12]  \n",
      "Epoch 4: 100%|██████████| 22/22 [00:09<00:00,  2.43batch/s, batch_accuracy=100, loss=0.0515] \n",
      "Epoch 5:   0%|          | 0/904 [00:00<?, ?batch/s]"
     ]
    },
    {
     "name": "stdout",
     "output_type": "stream",
     "text": [
      "Epoch 5 took 967.31s. Train loss: 0.3365 acc: 0.8495. auprc: 0.9312. Val loss: 0.3613 acc: 0.8193. auprc: 0.9682. Patience left: 4\n"
     ]
    },
    {
     "name": "stderr",
     "output_type": "stream",
     "text": [
      "Epoch 5: 100%|██████████| 904/904 [16:00<00:00,  1.06s/batch, batch_accuracy=80, loss=0.941]  \n",
      "Epoch 5: 100%|██████████| 22/22 [00:09<00:00,  2.44batch/s, batch_accuracy=85.7, loss=0.333]\n",
      "Epoch 6:   0%|          | 0/904 [00:00<?, ?batch/s]"
     ]
    },
    {
     "name": "stdout",
     "output_type": "stream",
     "text": [
      "Epoch 6 took 969.84s. Train loss: 0.3215 acc: 0.8568. auprc: 0.9379. Val loss: 0.3455 acc: 0.8493. auprc: 0.9583. Patience left: 4\n"
     ]
    },
    {
     "name": "stderr",
     "output_type": "stream",
     "text": [
      "Epoch 6: 100%|██████████| 904/904 [16:00<00:00,  1.06s/batch, batch_accuracy=90, loss=0.252]  \n",
      "Epoch 6: 100%|██████████| 22/22 [00:09<00:00,  2.43batch/s, batch_accuracy=30.4, loss=1.07] \n",
      "Epoch 7:   0%|          | 0/904 [00:00<?, ?batch/s]"
     ]
    },
    {
     "name": "stdout",
     "output_type": "stream",
     "text": [
      "Epoch 7 took 969.06s. Train loss: 0.3052 acc: 0.8661. auprc: 0.9439. Val loss: 0.4522 acc: 0.7764. auprc: 0.9546. Patience left: 3\n"
     ]
    },
    {
     "name": "stderr",
     "output_type": "stream",
     "text": [
      "Epoch 7: 100%|██████████| 904/904 [15:59<00:00,  1.06s/batch, batch_accuracy=80, loss=0.437]  \n",
      "Epoch 7: 100%|██████████| 22/22 [00:09<00:00,  2.43batch/s, batch_accuracy=94.6, loss=0.169]\n",
      "Epoch 8:   0%|          | 0/904 [00:00<?, ?batch/s]"
     ]
    },
    {
     "name": "stdout",
     "output_type": "stream",
     "text": [
      "Epoch 8 took 968.80s. Train loss: 0.2866 acc: 0.8749. auprc: 0.9512. Val loss: 0.3553 acc: 0.8386. auprc: 0.9603. Patience left: 2\n"
     ]
    },
    {
     "name": "stderr",
     "output_type": "stream",
     "text": [
      "Epoch 8: 100%|██████████| 904/904 [15:59<00:00,  1.06s/batch, batch_accuracy=70, loss=1.06]   \n",
      "Epoch 8: 100%|██████████| 22/22 [00:09<00:00,  2.43batch/s, batch_accuracy=100, loss=0.00194]\n",
      "Epoch 9:   0%|          | 0/904 [00:00<?, ?batch/s]"
     ]
    },
    {
     "name": "stdout",
     "output_type": "stream",
     "text": [
      "Epoch 9 took 968.93s. Train loss: 0.2730 acc: 0.8808. auprc: 0.9561. Val loss: 0.8098 acc: 0.6886. auprc: 0.9672. Patience left: 1\n"
     ]
    },
    {
     "name": "stderr",
     "output_type": "stream",
     "text": [
      "Epoch 9: 100%|██████████| 904/904 [15:59<00:00,  1.06s/batch, batch_accuracy=80, loss=0.805]  \n",
      "Epoch 9: 100%|██████████| 22/22 [00:09<00:00,  2.44batch/s, batch_accuracy=98.2, loss=0.086]\n"
     ]
    }
   ],
   "source": [
    "my_cnn1d = Anchor_CNN_LSTM()\n",
    "my_cnn1d, train_accs, val_accs = train_model(my_cnn1d, train_data, val_data)"
   ]
  },
  {
   "cell_type": "markdown",
   "metadata": {},
   "source": [
    "### Testing"
   ]
  },
  {
   "cell_type": "code",
   "execution_count": 106,
   "metadata": {},
   "outputs": [],
   "source": [
    "def test_model(model, testing_data=test_data):\n",
    "    device = torch.device(\"cuda\" if torch.cuda.is_available() else \"cpu\")\n",
    "    batch_size = 64\n",
    "    test_dataset = AnchorDataset(testing_data, genome, 800)\n",
    "    test_dataloader = torch.utils.data.DataLoader(test_dataset, batch_size=batch_size, num_workers = 0)\n",
    "    test_loss, test_acc, test_pr, test_rec = run_one_epoch(False, \n",
    "                                                   test_dataloader, \n",
    "                                                   model, \n",
    "                                                   None, \n",
    "                                                   device, \n",
    "                                                   math.ceil(len(test_dataset)/batch_size), \n",
    "                                                   0)\n",
    "    test_auprc = sklearn.metrics.auc(test_rec, test_pr)\n",
    "    return test_pr, test_rec, test_auprc"
   ]
  },
  {
   "cell_type": "code",
   "execution_count": 63,
   "metadata": {},
   "outputs": [],
   "source": [
    "import matplotlib.pyplot as plt"
   ]
  },
  {
   "cell_type": "code",
   "execution_count": 73,
   "metadata": {},
   "outputs": [
    {
     "data": {
      "image/png": "[encoded data removed]",
      "text/plain": [
       "<Figure size 432x288 with 1 Axes>"
      ]
     },
     "metadata": {
      "needs_background": "light"
     },
     "output_type": "display_data"
    }
   ],
   "source": [
    "plt.plot(test_rec, test_pr, color=\"red\", linestyle='--', label=f'CNN + LSTM (0.948)')\n",
    "# axis labels\n",
    "plt.xlabel('Recall')\n",
    "plt.ylabel('Precision')\n",
    "plt.legend()\n",
    "plt.show()"
   ]
  },
  {
   "cell_type": "code",
   "execution_count": 109,
   "metadata": {},
   "outputs": [
    {
     "data": {
      "text/html": [
       "<div>\n",
       "<style scoped>\n",
       "    .dataframe tbody tr th:only-of-type {\n",
       "        vertical-align: middle;\n",
       "    }\n",
       "\n",
       "    .dataframe tbody tr th {\n",
       "        vertical-align: top;\n",
       "    }\n",
       "\n",
       "    .dataframe thead th {\n",
       "        text-align: right;\n",
       "    }\n",
       "</style>\n",
       "<table border=\"1\" class=\"dataframe\">\n",
       "  <thead>\n",
       "    <tr style=\"text-align: right;\">\n",
       "      <th></th>\n",
       "      <th>Unnamed: 0</th>\n",
       "      <th>chrom</th>\n",
       "      <th>start</th>\n",
       "      <th>end</th>\n",
       "      <th>anchor</th>\n",
       "    </tr>\n",
       "  </thead>\n",
       "  <tbody>\n",
       "    <tr>\n",
       "      <th>0</th>\n",
       "      <td>13734</td>\n",
       "      <td>chr7</td>\n",
       "      <td>44191295</td>\n",
       "      <td>44195295</td>\n",
       "      <td>1.0</td>\n",
       "    </tr>\n",
       "    <tr>\n",
       "      <th>1</th>\n",
       "      <td>13807</td>\n",
       "      <td>chr7</td>\n",
       "      <td>50435212</td>\n",
       "      <td>50439212</td>\n",
       "      <td>1.0</td>\n",
       "    </tr>\n",
       "    <tr>\n",
       "      <th>2</th>\n",
       "      <td>13285</td>\n",
       "      <td>chr7</td>\n",
       "      <td>5741917</td>\n",
       "      <td>5745917</td>\n",
       "      <td>1.0</td>\n",
       "    </tr>\n",
       "    <tr>\n",
       "      <th>3</th>\n",
       "      <td>14172</td>\n",
       "      <td>chr7</td>\n",
       "      <td>100159598</td>\n",
       "      <td>100163598</td>\n",
       "      <td>1.0</td>\n",
       "    </tr>\n",
       "    <tr>\n",
       "      <th>4</th>\n",
       "      <td>13456</td>\n",
       "      <td>chr7</td>\n",
       "      <td>23900970</td>\n",
       "      <td>23904970</td>\n",
       "      <td>1.0</td>\n",
       "    </tr>\n",
       "  </tbody>\n",
       "</table>\n",
       "</div>"
      ],
      "text/plain": [
       "   Unnamed: 0 chrom      start        end  anchor\n",
       "0       13734  chr7   44191295   44195295     1.0\n",
       "1       13807  chr7   50435212   50439212     1.0\n",
       "2       13285  chr7    5741917    5745917     1.0\n",
       "3       14172  chr7  100159598  100163598     1.0\n",
       "4       13456  chr7   23900970   23904970     1.0"
      ]
     },
     "execution_count": 109,
     "metadata": {},
     "output_type": "execute_result"
    }
   ],
   "source": [
    "test_data_positives = test_data[test_data['anchor']==1]\n",
    "test_na1 = pd.read_csv(data_dir + 'anchor_test_sets/non_anchor_type_1.csv')\n",
    "test_na1 = test_na1[test_na1['chrom'].isin(['chr7', 'chr8'])]\n",
    "test_na1['anchor']=0.0\n",
    "test_na1 = test_na1.sample(3666)\n",
    "final_test_na_1 = test_data_positives.append(test_na1)\n",
    "final_test_na_1.head()"
   ]
  },
  {
   "cell_type": "code",
   "execution_count": 110,
   "metadata": {},
   "outputs": [],
   "source": [
    "# test_na2 = pd.read_csv(data_dir + 'anchor_test_sets/non_anchor_type_2.csv')\n",
    "# test_na3 = pd.read_csv(data_dir + 'anchor_test_sets/non_anchor_type_3.csv')"
   ]
  },
  {
   "cell_type": "code",
   "execution_count": 111,
   "metadata": {},
   "outputs": [
    {
     "name": "stderr",
     "output_type": "stream",
     "text": [
      "  2%|▏         | 140/6666 [00:00<00:04, 1398.91it/s]"
     ]
    },
    {
     "name": "stdout",
     "output_type": "stream",
     "text": [
      "Preparing a dataset...\n"
     ]
    },
    {
     "name": "stderr",
     "output_type": "stream",
     "text": [
      "100%|██████████| 6666/6666 [00:04<00:00, 1641.88it/s]\n",
      "Epoch 1: 100%|██████████| 104/104 [00:42<00:00,  2.44batch/s, batch_accuracy=25, loss=1.25]   \n"
     ]
    }
   ],
   "source": [
    "test_pr1, test_rec1, test_auprc1 = test_model(my_cnn1d, final_test_na_1)"
   ]
  },
  {
   "cell_type": "code",
   "execution_count": 112,
   "metadata": {},
   "outputs": [
    {
     "data": {
      "text/plain": [
       "0.8493416009527681"
      ]
     },
     "execution_count": 112,
     "metadata": {},
     "output_type": "execute_result"
    }
   ],
   "source": [
    "test_auprc1"
   ]
  },
  {
   "cell_type": "code",
   "execution_count": 117,
   "metadata": {},
   "outputs": [
    {
     "data": {
      "text/html": [
       "<div>\n",
       "<style scoped>\n",
       "    .dataframe tbody tr th:only-of-type {\n",
       "        vertical-align: middle;\n",
       "    }\n",
       "\n",
       "    .dataframe tbody tr th {\n",
       "        vertical-align: top;\n",
       "    }\n",
       "\n",
       "    .dataframe thead th {\n",
       "        text-align: right;\n",
       "    }\n",
       "</style>\n",
       "<table border=\"1\" class=\"dataframe\">\n",
       "  <thead>\n",
       "    <tr style=\"text-align: right;\">\n",
       "      <th></th>\n",
       "      <th>Unnamed: 0</th>\n",
       "      <th>chrom</th>\n",
       "      <th>start</th>\n",
       "      <th>end</th>\n",
       "      <th>anchor</th>\n",
       "    </tr>\n",
       "  </thead>\n",
       "  <tbody>\n",
       "    <tr>\n",
       "      <th>879</th>\n",
       "      <td>15817</td>\n",
       "      <td>chr8</td>\n",
       "      <td>97143441</td>\n",
       "      <td>97147441</td>\n",
       "      <td>1.0</td>\n",
       "    </tr>\n",
       "    <tr>\n",
       "      <th>1777</th>\n",
       "      <td>13809</td>\n",
       "      <td>chr7</td>\n",
       "      <td>50534090</td>\n",
       "      <td>50538090</td>\n",
       "      <td>1.0</td>\n",
       "    </tr>\n",
       "    <tr>\n",
       "      <th>377</th>\n",
       "      <td>14700</td>\n",
       "      <td>chr7</td>\n",
       "      <td>142549970</td>\n",
       "      <td>142553970</td>\n",
       "      <td>1.0</td>\n",
       "    </tr>\n",
       "    <tr>\n",
       "      <th>290</th>\n",
       "      <td>13419</td>\n",
       "      <td>chr7</td>\n",
       "      <td>21563848</td>\n",
       "      <td>21567848</td>\n",
       "      <td>1.0</td>\n",
       "    </tr>\n",
       "    <tr>\n",
       "      <th>2662</th>\n",
       "      <td>14370</td>\n",
       "      <td>chr7</td>\n",
       "      <td>115816339</td>\n",
       "      <td>115822317</td>\n",
       "      <td>1.0</td>\n",
       "    </tr>\n",
       "  </tbody>\n",
       "</table>\n",
       "</div>"
      ],
      "text/plain": [
       "      Unnamed: 0 chrom      start        end  anchor\n",
       "879        15817  chr8   97143441   97147441     1.0\n",
       "1777       13809  chr7   50534090   50538090     1.0\n",
       "377        14700  chr7  142549970  142553970     1.0\n",
       "290        13419  chr7   21563848   21567848     1.0\n",
       "2662       14370  chr7  115816339  115822317     1.0"
      ]
     },
     "execution_count": 117,
     "metadata": {},
     "output_type": "execute_result"
    }
   ],
   "source": [
    "test_data_positives = test_data[test_data['anchor']==1]\n",
    "test_na2 = pd.read_csv(data_dir + 'anchor_test_sets/non_anchor_type_2.csv')\n",
    "test_na2 = test_na2[test_na2['chrom'].isin(['chr7', 'chr8'])]\n",
    "test_na2['anchor']=0.0\n",
    "test_data_positives = test_data_positives.sample(643)\n",
    "final_test_na_2 = test_data_positives.append(test_na2)\n",
    "final_test_na_2.head()"
   ]
  },
  {
   "cell_type": "code",
   "execution_count": 119,
   "metadata": {},
   "outputs": [
    {
     "name": "stderr",
     "output_type": "stream",
     "text": [
      "  3%|▎         | 157/5364 [00:00<00:03, 1563.27it/s]"
     ]
    },
    {
     "name": "stdout",
     "output_type": "stream",
     "text": [
      "Preparing a dataset...\n"
     ]
    },
    {
     "name": "stderr",
     "output_type": "stream",
     "text": [
      "100%|██████████| 5364/5364 [00:03<00:00, 1651.53it/s]\n",
      "Epoch 1: 100%|██████████| 84/84 [00:34<00:00,  2.44batch/s, batch_accuracy=89.4, loss=0.283]\n"
     ]
    },
    {
     "data": {
      "text/plain": [
       "0.9336559370732691"
      ]
     },
     "execution_count": 119,
     "metadata": {},
     "output_type": "execute_result"
    }
   ],
   "source": [
    "test_pr2, test_rec2, test_auprc2 = test_model(my_cnn1d, final_test_na_2)\n",
    "test_auprc2"
   ]
  },
  {
   "cell_type": "code",
   "execution_count": 122,
   "metadata": {},
   "outputs": [
    {
     "data": {
      "text/html": [
       "<div>\n",
       "<style scoped>\n",
       "    .dataframe tbody tr th:only-of-type {\n",
       "        vertical-align: middle;\n",
       "    }\n",
       "\n",
       "    .dataframe tbody tr th {\n",
       "        vertical-align: top;\n",
       "    }\n",
       "\n",
       "    .dataframe thead th {\n",
       "        text-align: right;\n",
       "    }\n",
       "</style>\n",
       "<table border=\"1\" class=\"dataframe\">\n",
       "  <thead>\n",
       "    <tr style=\"text-align: right;\">\n",
       "      <th></th>\n",
       "      <th>Unnamed: 0</th>\n",
       "      <th>chrom</th>\n",
       "      <th>start</th>\n",
       "      <th>end</th>\n",
       "      <th>anchor</th>\n",
       "    </tr>\n",
       "  </thead>\n",
       "  <tbody>\n",
       "    <tr>\n",
       "      <th>2521</th>\n",
       "      <td>16221</td>\n",
       "      <td>chr8</td>\n",
       "      <td>131661635</td>\n",
       "      <td>131665635</td>\n",
       "      <td>1.0</td>\n",
       "    </tr>\n",
       "    <tr>\n",
       "      <th>0</th>\n",
       "      <td>13734</td>\n",
       "      <td>chr7</td>\n",
       "      <td>44191295</td>\n",
       "      <td>44195295</td>\n",
       "      <td>1.0</td>\n",
       "    </tr>\n",
       "    <tr>\n",
       "      <th>849</th>\n",
       "      <td>15726</td>\n",
       "      <td>chr8</td>\n",
       "      <td>87629328</td>\n",
       "      <td>87633328</td>\n",
       "      <td>1.0</td>\n",
       "    </tr>\n",
       "    <tr>\n",
       "      <th>810</th>\n",
       "      <td>14518</td>\n",
       "      <td>chr7</td>\n",
       "      <td>130083030</td>\n",
       "      <td>130087030</td>\n",
       "      <td>1.0</td>\n",
       "    </tr>\n",
       "    <tr>\n",
       "      <th>1417</th>\n",
       "      <td>15815</td>\n",
       "      <td>chr8</td>\n",
       "      <td>96901036</td>\n",
       "      <td>96905036</td>\n",
       "      <td>1.0</td>\n",
       "    </tr>\n",
       "  </tbody>\n",
       "</table>\n",
       "</div>"
      ],
      "text/plain": [
       "      Unnamed: 0 chrom      start        end  anchor\n",
       "2521       16221  chr8  131661635  131665635     1.0\n",
       "0          13734  chr7   44191295   44195295     1.0\n",
       "849        15726  chr8   87629328   87633328     1.0\n",
       "810        14518  chr7  130083030  130087030     1.0\n",
       "1417       15815  chr8   96901036   96905036     1.0"
      ]
     },
     "execution_count": 122,
     "metadata": {},
     "output_type": "execute_result"
    }
   ],
   "source": [
    "test_data_positives = test_data[test_data['anchor']==1]\n",
    "test_na3 = pd.read_csv(data_dir + 'anchor_test_sets/non_anchor_type_2.csv')\n",
    "test_na3 = test_na2[test_na2['chrom'].isin(['chr7', 'chr8'])]\n",
    "test_na3['anchor']=0.0\n",
    "test_data_positives = test_data_positives.sample(382)\n",
    "final_test_na_3 = test_data_positives.append(test_na3)\n",
    "final_test_na_3.head()"
   ]
  },
  {
   "cell_type": "code",
   "execution_count": 123,
   "metadata": {},
   "outputs": [
    {
     "name": "stderr",
     "output_type": "stream",
     "text": [
      "  3%|▎         | 147/5103 [00:00<00:03, 1464.73it/s]"
     ]
    },
    {
     "name": "stdout",
     "output_type": "stream",
     "text": [
      "Preparing a dataset...\n"
     ]
    },
    {
     "name": "stderr",
     "output_type": "stream",
     "text": [
      "100%|██████████| 5103/5103 [00:03<00:00, 1650.22it/s]\n",
      "Epoch 1: 100%|██████████| 80/80 [00:32<00:00,  2.45batch/s, batch_accuracy=90.5, loss=0.262]\n"
     ]
    },
    {
     "data": {
      "text/plain": [
       "0.9041839729427019"
      ]
     },
     "execution_count": 123,
     "metadata": {},
     "output_type": "execute_result"
    }
   ],
   "source": [
    "test_pr3, test_rec3, test_auprc3 = test_model(my_cnn1d, final_test_na_3)\n",
    "test_auprc3"
   ]
  },
  {
   "cell_type": "code",
   "execution_count": 127,
   "metadata": {},
   "outputs": [
    {
     "data": {
      "image/png": "[encoded data removed]",
      "text/plain": [
       "<Figure size 432x288 with 1 Axes>"
      ]
     },
     "metadata": {
      "needs_background": "light"
     },
     "output_type": "display_data"
    }
   ],
   "source": [
    "plt.plot(test_rec1, test_pr1, color=\"red\", linestyle='-', label=f'non-anchor 1 (0.849)')\n",
    "plt.plot(test_rec2, test_pr2, color=\"orange\", linestyle='-.', label=f'non-anchor 2 (0.933)')\n",
    "plt.plot(test_rec3, test_pr3, color=\"blue\", linestyle='-', label=f'non-anchor 3 (0.904)')\n",
    "# axis labels\n",
    "plt.xlabel('Recall')\n",
    "plt.ylabel('Precision')\n",
    "plt.legend()\n",
    "plt.show()"
   ]
  },
  {
   "cell_type": "code",
   "execution_count": null,
   "metadata": {},
   "outputs": [],
   "source": []
  },
  {
   "cell_type": "code",
   "execution_count": null,
   "metadata": {},
   "outputs": [],
   "source": []
  },
  {
   "cell_type": "code",
   "execution_count": null,
   "metadata": {},
   "outputs": [],
   "source": []
  },
  {
   "cell_type": "code",
   "execution_count": 40,
   "metadata": {},
   "outputs": [],
   "source": [
    "model = Anchor_CNN_LSTM()"
   ]
  },
  {
   "cell_type": "code",
   "execution_count": 42,
   "metadata": {},
   "outputs": [
    {
     "data": {
      "text/plain": [
       "torch.Size([10, 1])"
      ]
     },
     "execution_count": 42,
     "metadata": {},
     "output_type": "execute_result"
    }
   ],
   "source": [
    "model(dummy3, dummy).shape"
   ]
  },
  {
   "cell_type": "code",
   "execution_count": 23,
   "metadata": {},
   "outputs": [],
   "source": [
    "m=Anchor_LSTM_Model()"
   ]
  },
  {
   "cell_type": "code",
   "execution_count": 39,
   "metadata": {},
   "outputs": [],
   "source": [
    "dummy = torch.rand((10, 800, 5))"
   ]
  },
  {
   "cell_type": "code",
   "execution_count": 25,
   "metadata": {},
   "outputs": [],
   "source": [
    "b1 = m(dummy)"
   ]
  },
  {
   "cell_type": "code",
   "execution_count": 26,
   "metadata": {},
   "outputs": [
    {
     "data": {
      "text/plain": [
       "torch.Size([10, 800])"
      ]
     },
     "execution_count": 26,
     "metadata": {},
     "output_type": "execute_result"
    }
   ],
   "source": [
    "b1.shape"
   ]
  },
  {
   "cell_type": "code",
   "execution_count": 27,
   "metadata": {},
   "outputs": [],
   "source": [
    "m2=Anchor_CNN_Model()"
   ]
  },
  {
   "cell_type": "code",
   "execution_count": 38,
   "metadata": {},
   "outputs": [],
   "source": [
    "dummy3=torch.rand((10,4000,5))\n",
    "# b2=m2(dummy3)"
   ]
  },
  {
   "cell_type": "code",
   "execution_count": 29,
   "metadata": {},
   "outputs": [
    {
     "data": {
      "text/plain": [
       "torch.Size([10, 1536])"
      ]
     },
     "execution_count": 29,
     "metadata": {},
     "output_type": "execute_result"
    }
   ],
   "source": [
    "b2.shape"
   ]
  },
  {
   "cell_type": "code",
   "execution_count": 30,
   "metadata": {},
   "outputs": [
    {
     "data": {
      "text/plain": [
       "torch.Size([10, 2336])"
      ]
     },
     "execution_count": 30,
     "metadata": {},
     "output_type": "execute_result"
    }
   ],
   "source": [
    "dummy4=torch.cat((b2,b1), -1)\n",
    "dummy4.shape"
   ]
  },
  {
   "cell_type": "code",
   "execution_count": 36,
   "metadata": {},
   "outputs": [],
   "source": [
    "classifier = nn.Sequential(\n",
    "                            nn.Linear(5536, 512),\n",
    "                            nn.BatchNorm1d(512),\n",
    "                            nn.LeakyReLU(0.2),\n",
    "                            nn.Dropout(0.2),\n",
    "            \n",
    "                            nn.Linear(512, 256),\n",
    "                            nn.BatchNorm1d(256),\n",
    "                            nn.LeakyReLU(0.2),\n",
    "                            nn.Dropout(0.2),\n",
    "                            \n",
    "                            nn.Linear(256, 1),\n",
    "                            nn.Sigmoid()\n",
    "                        )"
   ]
  },
  {
   "cell_type": "code",
   "execution_count": 35,
   "metadata": {},
   "outputs": [
    {
     "ename": "NameError",
     "evalue": "name 'classifier' is not defined",
     "output_type": "error",
     "traceback": [
      "\u001b[0;31m---------------------------------------------------------------------------\u001b[0m",
      "\u001b[0;31mNameError\u001b[0m                                 Traceback (most recent call last)",
      "\u001b[0;32m<ipython-input-35-4724d8f72c8d>\u001b[0m in \u001b[0;36m<module>\u001b[0;34m\u001b[0m\n\u001b[0;32m----> 1\u001b[0;31m \u001b[0mclassifier\u001b[0m\u001b[0;34m(\u001b[0m\u001b[0mdummy4\u001b[0m\u001b[0;34m)\u001b[0m\u001b[0;34m.\u001b[0m\u001b[0mshape\u001b[0m\u001b[0;34m\u001b[0m\u001b[0;34m\u001b[0m\u001b[0m\n\u001b[0m",
      "\u001b[0;31mNameError\u001b[0m: name 'classifier' is not defined"
     ]
    }
   ],
   "source": [
    "classifier(dummy4).shape"
   ]
  },
  {
   "cell_type": "code",
   "execution_count": 95,
   "metadata": {},
   "outputs": [
    {
     "data": {
      "text/plain": [
       "torch.Size([10, 1, 4000, 5])"
      ]
     },
     "execution_count": 95,
     "metadata": {},
     "output_type": "execute_result"
    }
   ],
   "source": [
    "dummy2=torch.rand((10, 1, 4000, 5))\n",
    "dummy2.shape"
   ]
  },
  {
   "cell_type": "code",
   "execution_count": 103,
   "metadata": {},
   "outputs": [],
   "source": [
    "layer1_out=256\n",
    "layer2_out=512\n",
    "dropout=0.2\n",
    "layer1 = nn.Sequential(\n",
    "                        nn.Conv2d(in_channels=1, out_channels=layer1_out, kernel_size=(17,5)),\n",
    "                        nn.BatchNorm2d(layer1_out),\n",
    "                        nn.LeakyReLU(0.2),\n",
    "                        nn.Dropout2d(dropout),\n",
    "                    )"
   ]
  },
  {
   "cell_type": "code",
   "execution_count": 114,
   "metadata": {},
   "outputs": [
    {
     "name": "stdout",
     "output_type": "stream",
     "text": [
      "torch.Size([10, 1, 4000, 5])\n"
     ]
    },
    {
     "data": {
      "text/plain": [
       "torch.Size([10, 256, 3984, 1])"
      ]
     },
     "execution_count": 114,
     "metadata": {},
     "output_type": "execute_result"
    }
   ],
   "source": [
    "print(dummy2.shape)\n",
    "o1=layer1(dummy2)\n",
    "o1.shape"
   ]
  },
  {
   "cell_type": "code",
   "execution_count": 130,
   "metadata": {},
   "outputs": [],
   "source": [
    "layer2_1 = nn.Sequential(\n",
    "                        nn.Conv2d(in_channels=layer1_out, out_channels=layer2_out, kernel_size=(5,1), dilation=1, padding='same'),\n",
    "                        nn.BatchNorm2d(layer2_out),\n",
    "                        nn.LeakyReLU(0.2),\n",
    "                        nn.MaxPool2d(kernel_size=(4000 - 16, 1), stride=(4000 - 16, 1)),\n",
    "                        nn.Dropout2d(dropout),\n",
    "                    )"
   ]
  },
  {
   "cell_type": "code",
   "execution_count": 124,
   "metadata": {},
   "outputs": [
    {
     "data": {
      "text/plain": [
       "torch.Size([10, 256, 3984, 1])"
      ]
     },
     "execution_count": 124,
     "metadata": {},
     "output_type": "execute_result"
    }
   ],
   "source": [
    "o1.shape"
   ]
  },
  {
   "cell_type": "code",
   "execution_count": 127,
   "metadata": {},
   "outputs": [],
   "source": [
    "dummy3=torch.rand((10, 256, 3984, 1))\n",
    "ll=nn.Conv2d(in_channels=256, out_channels=512, kernel_size=(5,1), dilation=1)"
   ]
  },
  {
   "cell_type": "code",
   "execution_count": 131,
   "metadata": {},
   "outputs": [
    {
     "data": {
      "text/plain": [
       "torch.Size([10, 512, 1, 1])"
      ]
     },
     "execution_count": 131,
     "metadata": {},
     "output_type": "execute_result"
    }
   ],
   "source": [
    "layer2_1(o1).shape"
   ]
  },
  {
   "cell_type": "code",
   "execution_count": null,
   "metadata": {},
   "outputs": [],
   "source": []
  }
 ],
 "metadata": {
  "kernelspec": {
   "display_name": "Python 3",
   "language": "python",
   "name": "python3"
  },
  "language_info": {
   "codemirror_mode": {
    "name": "ipython",
    "version": 3
   },
   "file_extension": ".py",
   "mimetype": "text/x-python",
   "name": "python",
   "nbconvert_exporter": "python",
   "pygments_lexer": "ipython3",
   "version": "3.8.5"
  }
 },
 "nbformat": 4,
 "nbformat_minor": 4
}
