{
 "cells": [
  {
   "cell_type": "code",
   "execution_count": 1,
   "metadata": {},
   "outputs": [
    {
     "data": {
      "text/plain": [
       "<torch._C.Generator at 0x7f19dc044ab0>"
      ]
     },
     "execution_count": 1,
     "metadata": {},
     "output_type": "execute_result"
    }
   ],
   "source": [
    "import torch\n",
    "import torch.nn as nn\n",
    "import torch.utils.data\n",
    "import torch.nn.functional as F\n",
    "import numpy as np\n",
    "import pandas as pd\n",
    "import timeit\n",
    "import tqdm\n",
    "import sklearn.metrics\n",
    "\n",
    "torch.manual_seed(2)"
   ]
  },
  {
   "cell_type": "code",
   "execution_count": 2,
   "metadata": {},
   "outputs": [],
   "source": [
    "%load_ext Cython"
   ]
  },
  {
   "cell_type": "code",
   "execution_count": 3,
   "metadata": {},
   "outputs": [],
   "source": [
    "%%cython\n",
    "\n",
    "import numpy as np\n",
    "np.get_include() # do we need this on colab? \n",
    "cimport cython\n",
    "cimport numpy as np\n",
    "\n",
    "cdef dict bases={ 'A':<int>0, 'C':<int>1, 'G':<int>2, 'T':<int>3, 'N':<int>4, } \n",
    "\n",
    "@cython.boundscheck(False)\n",
    "def one_hot( str string ):\n",
    "    cdef np.ndarray[np.float32_t, ndim=2] res = np.zeros( (5,len(string)), dtype=np.float32 )\n",
    "    cdef int j\n",
    "    for j in range(len(string)):\n",
    "        if string[j] in bases: # bases can be 'N' signifying missing: this corresponds to all 0 in the encoding\n",
    "            res[ bases[ string[j] ], j ]=float(1.0)\n",
    "    return(res)\n"
   ]
  },
  {
   "cell_type": "code",
   "execution_count": 4,
   "metadata": {},
   "outputs": [
    {
     "name": "stdout",
     "output_type": "stream",
     "text": [
      "torch.Size([5, 19])\n"
     ]
    },
    {
     "data": {
      "text/plain": [
       "tensor([1., 4., 7., 0., 7.])"
      ]
     },
     "execution_count": 4,
     "metadata": {},
     "output_type": "execute_result"
    }
   ],
   "source": [
    "x_np = one_hot(\"CCGCGNGGNGGCAGNNNNN\") #ACGTN\n",
    "x_tensor = torch.tensor(x_np)\n",
    "print(x_tensor.shape)\n",
    "torch.sum(x_tensor, 1)"
   ]
  },
  {
   "cell_type": "code",
   "execution_count": 5,
   "metadata": {},
   "outputs": [],
   "source": [
    "data_dir = './data/'\n",
    "train_data = pd.read_csv(data_dir + 'anchor_datasets/anchor_master_train.csv')\n",
    "val_data = pd.read_csv(data_dir + 'anchor_datasets/anchor_master_val.csv')\n",
    "test_data = pd.read_csv(data_dir + 'anchor_datasets/anchor_master_test.csv')"
   ]
  },
  {
   "cell_type": "code",
   "execution_count": 6,
   "metadata": {},
   "outputs": [
    {
     "data": {
      "text/html": [
       "<div>\n",
       "<style scoped>\n",
       "    .dataframe tbody tr th:only-of-type {\n",
       "        vertical-align: middle;\n",
       "    }\n",
       "\n",
       "    .dataframe tbody tr th {\n",
       "        vertical-align: top;\n",
       "    }\n",
       "\n",
       "    .dataframe thead th {\n",
       "        text-align: right;\n",
       "    }\n",
       "</style>\n",
       "<table border=\"1\" class=\"dataframe\">\n",
       "  <thead>\n",
       "    <tr style=\"text-align: right;\">\n",
       "      <th></th>\n",
       "      <th>Unnamed: 0</th>\n",
       "      <th>chrom</th>\n",
       "      <th>start</th>\n",
       "      <th>end</th>\n",
       "      <th>anchor</th>\n",
       "    </tr>\n",
       "  </thead>\n",
       "  <tbody>\n",
       "    <tr>\n",
       "      <th>0</th>\n",
       "      <td>22021</td>\n",
       "      <td>chr12</td>\n",
       "      <td>54686154</td>\n",
       "      <td>54690154</td>\n",
       "      <td>1.0</td>\n",
       "    </tr>\n",
       "    <tr>\n",
       "      <th>1</th>\n",
       "      <td>9664</td>\n",
       "      <td>chr5</td>\n",
       "      <td>32470089</td>\n",
       "      <td>32474089</td>\n",
       "      <td>1.0</td>\n",
       "    </tr>\n",
       "    <tr>\n",
       "      <th>2</th>\n",
       "      <td>11985</td>\n",
       "      <td>chr6</td>\n",
       "      <td>42035500</td>\n",
       "      <td>42039500</td>\n",
       "      <td>1.0</td>\n",
       "    </tr>\n",
       "    <tr>\n",
       "      <th>3</th>\n",
       "      <td>28325</td>\n",
       "      <td>chr17</td>\n",
       "      <td>62933100</td>\n",
       "      <td>62937100</td>\n",
       "      <td>1.0</td>\n",
       "    </tr>\n",
       "    <tr>\n",
       "      <th>4</th>\n",
       "      <td>1887</td>\n",
       "      <td>chr1</td>\n",
       "      <td>153371013</td>\n",
       "      <td>153375013</td>\n",
       "      <td>1.0</td>\n",
       "    </tr>\n",
       "  </tbody>\n",
       "</table>\n",
       "</div>"
      ],
      "text/plain": [
       "   Unnamed: 0  chrom      start        end  anchor\n",
       "0       22021  chr12   54686154   54690154     1.0\n",
       "1        9664   chr5   32470089   32474089     1.0\n",
       "2       11985   chr6   42035500   42039500     1.0\n",
       "3       28325  chr17   62933100   62937100     1.0\n",
       "4        1887   chr1  153371013  153375013     1.0"
      ]
     },
     "execution_count": 6,
     "metadata": {},
     "output_type": "execute_result"
    }
   ],
   "source": [
    "train_data.head()"
   ]
  },
  {
   "cell_type": "code",
   "execution_count": 7,
   "metadata": {},
   "outputs": [],
   "source": [
    "import pickle\n",
    "genome = pickle.load(open(data_dir+\"hg38-003.pkl\",\"rb\"))"
   ]
  },
  {
   "cell_type": "code",
   "execution_count": 8,
   "metadata": {
    "scrolled": true
   },
   "outputs": [
    {
     "data": {
      "text/plain": [
       "'GGGACTACAGGTGCCCACTACCACGCCTGGCTAATTTTTTGTATTTTCAGTAGAGACGGGGTTTCACTGTGTTAGCCAGGATGGTCTCGATCTCCTGACCTCGTGATCCGCCCACCTCAGCCTCCCAAAGTGCTAGGATTACAGGTGTTAGCCACCGTGCCCAGCTAGTTTCTTTTCTTTTCTTTTTTTTTTTTTGAGCCGGAGTCTCACTCTGTCTCCCAGGCCAGAGTACAGTAGCGCGATCTCGGCTCACTGCAACCTCCACCTCCAGGGTTCAAGCAATTCTCCTGCCTCAGCCTCCCAAGTAGCTGGGATTACAGACACCCGCCACAACGCCTGGCTAATTTTTGTATTTTTAGTAGAGACGGGGTTTCACCATTTTGGCCAGGCTGGTTTTGAACTCCTGACTTTGTGATCCCCCCACCTCGGCCTCCCAAAGTGCTGGGATTATAGGTGTGAGCCATCACTCCCGGCCTAAAAATTATTATTATTATTTTGGGTTTTTTTTGAGACAGAGTCTTGCTCTGTCACCCAGGCTGGAGTGCATTGGCCCAATGTTAGCTTGCTGCGCAACCTCTGCCTCTCGGGTTCAAGCGATTCTGCTGCCTCCACCTCCCAAGTAGTTGGGATTATAGGCATGTGCCATCATGCCCAGCTAATTCTTGTATTTTCAGTAGACATGTGGTTTCACCATGTTGGCCAGGCTAGTCCTGAACTCCTGACCTCAAGTGATCCATCTGCCTCGGCCTCCCAAAGTGCTGGGATTACAGGTGTGAGCCACCATGCCTGGCCTAAAAATTATTATTTATATATATATATATATAAAATATATATATGGAGCCTTGCTCTTGTTGCCCAGGCTGGAGTGCATATATACTATATATATATATATATATATATATATTTTTTTTTTTTTTTTTTTTTTTTGACACAGGGTCTCCCTCTGTCACCCAGGCTGGAGTGCAGTGGCACAATCACTACTCACTGCAGCCTCCACCTCCCAGGTTCAAGCAATCCTCCCACCTCAGCCTCCTCCTGGTCTACAGGCGCACACCACCAAGCCTGGCTAAGTTTTGGGTCTTTTGTAGAGACAAAATTTTGCCATGTTGTCTAGGCTGGTCTCCAACTCCTGGGCTCAAGTTATCTGCCCGCCTTGGCCTCCCAAAGTGCTGAGATTACAGGCATGAGCCACTGTGCCTGGCCAGTCCTCTCTTTTCTAATGAGATACCTGCCTGAGGCCAAATTTTCTTCATATACATCAATGAAAACATATTGCAACAGATTAAATCAGAAACTGATGAAAATCCAGCTGTCTTCTATGAAGTCAGGCATTAACGAGATTTGCAAAAATGTAAAACAAGGCTATACTTCTCATTATTTTTGTTTTGGAAAATAGTTTTCATTTAAAAAAATACAATGCTTATGGATTTTTTGTTTTGTTTTGTTTTGTTTTTTTGAGACAGACTCTTGCTCTGTCACCCAGGCTGGAATGCAGTGGCGTGATCTCAGCTCACTGCAAGCTCCGCCTCTCGGGTTCACGCCATTCTCCTGCCTCAGCCTCCCGAGTAGCTGGGACTAAAGGTGCCCGCCACCACACCTGGCTAATTTTTCTGTATTTTTCAGTAGAGACAGGGTTTCACTGTGTTAGCCAGGATGGTCTCGATCTCCTGACCTCGTGATCCACCCGCCTTGGCCTCCCAAAGTGTTGGGATTACAGGCGTGAGCCACTGTGCCCGGCCGTTTTGTTTTTTTTTTTAAGACGGAGTCTCGCTTTGCCACCAGGCTGGAGTGCAGTGGCACGATCTCGGCTCACTGCAACCTCTGACTCCCTGGTTCAAGCGATTCTCCTGCCTCAGCCTCCCAAGTAGCTGGGACTACAGGCATGCACGACCATGCCCAGCTAATTTTTGTATTTTTAGTAGAGACGGTTTTCAACATATTGGCCAGGATGGTCTCAATCTCTCGACCTTGTGATCCGCCCGCCTCGGCCTCCCAAAGTGCTGGGATTACAGGCGTGAGCCACCGCGCCTGGCCAAAAAAAAATTACAATGCTTATGTTAACATGCAATGAGTTTCTTATTGTTACTTTAAATAAATTAATATTTAAAATTTCTCATATCAAATTTTTTATCAGAAACAAAATAACAACAGGTATAGGGAGGGACAAGTCAAAAGCTTATATTATTTATTCCAGGGAATGCCATGTCGGGTGCACCGATTATTAGGTATAGCCTAAAAAACAAAAGTTCTGGCCAGGCATAGTGGCATGCGCCTGTAATCACAGCACTTTGGGAGGCCGAGGCGGACGGATCATGAGGTCAGGAGTTCAAGACTAGTCTGACCAAAATGGTGAAACCCTGTCTCTAATAAAAATACAAAAATTAGCTGGGTGTGGTCGCACATGCCTGTAATCCCAGCTACTCAGGAGGCTGAGGCACGAGAATCGCTTGAACCCGGGAGGCGGAGGTTGCAGTGAGCCGAGATTGCGCCATTGCACTCCACCCTGGGCGACAGAGTGAGACTCGGTCTCAAAAAAAAAAAAAAAAAAAAGTTCTTTGGGATCCTCAATAATTTTTCAGAATGTAAAGTGGTCCTGAGATCAGAAGGCTTAAAAATTGCTGCAGCAGACCTAATATGTCAGTCTCTAAAATGCCCAATTCCAAGCCTGGTTATCTAGTTCTTGGTATTCTTTACCCTTATTCACATTTTTACCTCTTGGCCCCATTGTGCTGCTGGATTTTTTTTAACTATATTAGGGCAGGGTGCAGTGGCTCACATCTGTAATACCAGCACTTTGGGTGGCCAAGGTGGGCAGATCGCTTGAGCCCAGGAGTTCAAGACCAGCCTGCGCAACATGGCAAAACCCTGTCTCCACCAAAAATACAAAAAATTAACTGGGCGTGGTGGCTTGTGCCTGTGGTCCCAGTTACTTGGGAGGTTGAGGCAGGAGAACTGCTTGAGCCCAGGAGGCAGGAGCTGCAGTGAGCTGAGACTGTGCCACTACACTCTAGCCTGGGTGACAGAGTGAGACCCCATCTCAACTAAAAAAAAAAAAAAGCAAGAAGAGGGCATATCAAAAATAATCATTGTTCTACAAATAATAGTGATTATAGAAATAACCACTAGTTCTTTTAGAAATAAGAAATAATCAGTAATACTATAGAAAAAGAATAAGAAATAAGCCTAATAATTGCCATAGAAATAACATAAAAATTATTTCTATAATATGGCCTTCAGTAAAAAACTCAGAACATTCAGAAGAGTAAAAAGACCCAAAAGCAACCACCATTTAAAACTGCTCCGGAATAATTTCTCATCTAATCCATTCTTCTTTTATCTCCTCAAATGGCACCTTTGAGAAGAAATTCCTGGTTAACCCATGCAAAAGCAACCACTCCTTCCTCCAGATTCCCACAGCATTGTAGTTGAAACCTTTCTTGAGGCCCAGCTAGACCATAAAAGTATGCATACTGAATTCCTAAATGTGCATATTTAACGGTCATAAATTCAGTTATATCTACTGGAAGAGACACCAACCAACCACAGAAACCTATGTACTATTTATATGATGTGATCCCTTCACCCAGGCTTAACATAATGCTTAACCAAAGACCAGAGCCTGTGTTCCAACAAAAACTGGCCATGCTGAGGAATCTTAGAAATGGAAGAGAATGTCCAAATCATGTATCCTGTGTTTTATGAGCAGTCTCTTTAAAATAGAGACTTTAATAGTAACTTTGATGTGTGTCTTGTTTTTACACTGACTTTGAACCCAACACTGTGTCAAATGTGGCTCCACTACATGAAGAATGGACAAGTGAATGGTTCCAAGGCCTCTGAGACTTACAGATGTTGGATGAATATACTAGGTGACTGAGCCCAGGAGTCCTCGACCCATGTAGTCCTGTCCTCTGGACAGGGTATGTGGCATCCCCTCTAGGCCAGGGCTGCCACCCATTGCTGGGTGAAGGTCTCAGGTGTCACTTGAAGGCCAAGGTGA'"
      ]
     },
     "execution_count": 8,
     "metadata": {},
     "output_type": "execute_result"
    }
   ],
   "source": [
    "genome[\"chr6\"][42035500:42039500]"
   ]
  },
  {
   "cell_type": "code",
   "execution_count": 9,
   "metadata": {},
   "outputs": [
    {
     "data": {
      "text/plain": [
       "133797422"
      ]
     },
     "execution_count": 9,
     "metadata": {},
     "output_type": "execute_result"
    }
   ],
   "source": [
    "len(genome[\"chr10\"])"
   ]
  },
  {
   "cell_type": "code",
   "execution_count": 10,
   "metadata": {
    "scrolled": true
   },
   "outputs": [],
   "source": [
    "# cnt=0\n",
    "# context_length = 4000\n",
    "# for i,row in enumerate(test_data.itertuples()):\n",
    "#     midpoint = int(.5 * (row.start + row.end))\n",
    "#     seq = genome[row.chrom][midpoint - context_length//2:midpoint + context_length//2]\n",
    "#     if(len(seq) < 4000):\n",
    "#         pass\n",
    "#     else:\n",
    "#         cnt+=1\n",
    "# #         seq2 = genome[row.chrom][row.start:row.end]\n",
    "# #         print(len(seq),len(seq2), row.anchor, len(genome[row.chrom]))\n",
    "# cnt"
   ]
  },
  {
   "cell_type": "code",
   "execution_count": 11,
   "metadata": {},
   "outputs": [],
   "source": [
    "class AnchorDataset(torch.utils.data.IterableDataset):\n",
    "\n",
    "    def __init__(self, anchor_data, genome, rnn_length):\n",
    "        super().__init__()\n",
    "        self.rnn_len = rnn_length\n",
    "        self.anchor_data = anchor_data\n",
    "        self.genome = genome\n",
    "        self.context_len = 4000\n",
    "        \n",
    "    def __iter__(self): \n",
    "        for i,row in enumerate(self.anchor_data.itertuples()):\n",
    "            lab = row.anchor\n",
    "            midpoint = int(.5 * (row.start + row.end))\n",
    "            seq = self.genome[row.chrom][ midpoint - self.context_len//2:midpoint + self.context_len//2]\n",
    "            if len(seq) < self.context_len:\n",
    "                continue\n",
    "            \n",
    "            oh_cnn_seq = one_hot(seq).transpose() # 4k, 5\n",
    "            #for rnn\n",
    "            rnn_start = int(self.context_len / 2 - self.rnn_len / 2)\n",
    "            rnn_end = int(self.context_len / 2 + self.rnn_len / 2)\n",
    "            rnn_seq = seq[rnn_start: rnn_end]\n",
    "            oh_rnn_seq = one_hot(rnn_seq).transpose()\n",
    "            \n",
    "            yield(oh_cnn_seq, oh_rnn_seq, np.float32(lab))\n",
    "            "
   ]
  },
  {
   "cell_type": "code",
   "execution_count": 12,
   "metadata": {},
   "outputs": [],
   "source": [
    "class Anchor_LSTM_Model(nn.Module):\n",
    "    def __init__(self, in_dim=5, hid_dim=128, out_dim=1):\n",
    "        super().__init__()\n",
    "        self.lstm1 = nn.LSTM(in_dim, hid_dim, batch_first=True, bidirectional=True)\n",
    "        self.lstm2 = nn.LSTM(hid_dim * 2, hid_dim, batch_first=True, bidirectional=True)\n",
    "        self.fc = nn.Linear(hid_dim * 2, out_dim)\n",
    "        \n",
    "    def forward(self, x):\n",
    "        batch_size = x.shape[0]\n",
    "        x, _ = self.lstm1(x)\n",
    "        x, _ = self.lstm2(x)\n",
    "        return self.fc(x).view(batch_size, -1)\n",
    "\n",
    "    \n",
    "class Anchor_CNN_Model(nn.Module):\n",
    "    def __init__(self, layer1_out=256, layer2_out=512, dropout=0.2):\n",
    "        super().__init__()\n",
    "        self.seq_len = 4000\n",
    "        \n",
    "        self.layer1 = nn.Sequential(\n",
    "                        nn.Conv2d(in_channels=1, out_channels=layer1_out, kernel_size=(17,5)),\n",
    "                        nn.BatchNorm2d(layer1_out),\n",
    "                        nn.LeakyReLU(0.2),\n",
    "                        nn.Dropout2d(dropout),\n",
    "                    )\n",
    "        \n",
    "        #dilated conv dilation=1\n",
    "        self.layer2_1 = nn.Sequential(\n",
    "                        nn.Conv2d(in_channels=layer1_out, out_channels=layer2_out, kernel_size=(5,1), dilation=1, padding='same'),\n",
    "                        nn.BatchNorm2d(layer2_out),\n",
    "                        nn.LeakyReLU(0.2),\n",
    "                        nn.MaxPool2d(kernel_size=(self.seq_len - 16, 1), stride=(self.seq_len - 16, 1)),\n",
    "                        nn.Dropout2d(dropout),\n",
    "                    )\n",
    "        \n",
    "        #dilated conv dilation=3\n",
    "        self.layer2_2 = nn.Sequential(\n",
    "                        nn.Conv2d(in_channels=layer1_out, out_channels=layer2_out, kernel_size=(5,1), dilation=3, padding='same'),\n",
    "                        nn.BatchNorm2d(layer2_out),\n",
    "                        nn.LeakyReLU(0.2),\n",
    "                        nn.MaxPool2d(kernel_size=(self.seq_len - 16, 1), stride=(self.seq_len - 16, 1)),\n",
    "                        nn.Dropout2d(dropout),\n",
    "                    )\n",
    "        \n",
    "        #dilated conv dilation=7\n",
    "        self.layer2_3 = nn.Sequential(\n",
    "                        nn.Conv2d(in_channels=layer1_out, out_channels=layer2_out, kernel_size=(5,1), dilation=7, padding='same'),\n",
    "                        nn.BatchNorm2d(layer2_out),\n",
    "                        nn.LeakyReLU(0.2),\n",
    "                        nn.MaxPool2d(kernel_size=(self.seq_len - 16, 1), stride=(self.seq_len - 16, 1)),\n",
    "                        nn.Dropout2d(dropout),\n",
    "                    )\n",
    "        \n",
    "    def forward(self, x):\n",
    "        x = x.unsqueeze(1) #[*, 1, 4k, 5]\n",
    "        batch_size = x.shape[0]\n",
    "        x = self.layer1(x)\n",
    "        o1 = self.layer2_1(x).view(batch_size, -1)\n",
    "        o2 = self.layer2_2(x).view(batch_size, -1)\n",
    "        o3 = self.layer2_3(x).view(batch_size, -1)\n",
    "        out = torch.cat((o1,o2,o3), -1)\n",
    "        return out\n",
    "        \n",
    "        \n",
    "class Anchor_CNN_LSTM(nn.Module):\n",
    "    def __init__(self,\n",
    "                 use_lstm=True,\n",
    "                 use_cnn=True):\n",
    "        super().__init__()\n",
    "        \n",
    "        out_dim = 0\n",
    "        \n",
    "        if use_lstm == True:\n",
    "            self.lstm_model = Anchor_LSTM_Model()\n",
    "            out_dim += 800\n",
    "            \n",
    "        if use_cnn == True:\n",
    "            self.cnn_model = Anchor_CNN_Model()\n",
    "            out_dim += 1536\n",
    "        \n",
    "        \n",
    "        self.classifier = nn.Sequential(\n",
    "                            nn.Linear(out_dim, 512),\n",
    "                            nn.BatchNorm1d(512),\n",
    "                            nn.LeakyReLU(0.2),\n",
    "                            nn.Dropout(0.2),\n",
    "            \n",
    "                            nn.Linear(512, 256),\n",
    "                            nn.BatchNorm1d(256),\n",
    "                            nn.LeakyReLU(0.2),\n",
    "                            nn.Dropout(0.2),\n",
    "                            \n",
    "                            nn.Linear(256, 1),\n",
    "                            nn.Sigmoid()\n",
    "                        )\n",
    "\n",
    "    def forward(self, x_cnn, x_rnn):\n",
    "        x2 = self.cnn_model(x_cnn)\n",
    "        x1 = self.lstm_model(x_rnn)\n",
    "\n",
    "        x = torch.cat((x2, x1), -1)\n",
    "\n",
    "        out = self.classifier(x)\n",
    "\n",
    "        return out\n",
    "        "
   ]
  },
  {
   "cell_type": "code",
   "execution_count": 13,
   "metadata": {},
   "outputs": [],
   "source": [
    "# batch_size = 64\n",
    "# train_dataset = AnchorDataset(train_data, genome, 800)\n",
    "# train_dataloader = torch.utils.data.DataLoader(train_dataset, batch_size=batch_size, num_workers = 0) 72302\n",
    "\n",
    "# val_dataset = AnchorDataset(val_data, genome, 800)\n",
    "# val_dataloader = torch.utils.data.DataLoader(val_dataset, batch_size=batch_size, num_workers = 0) 1600\n",
    "\n",
    "# test_dataset = AnchorDataset(test_data, genome, 800)\n",
    "# test_dataloader = torch.utils.data.DataLoader(test_dataset, batch_size=batch_size, num_workers = 0) 5670\n"
   ]
  },
  {
   "cell_type": "code",
   "execution_count": 16,
   "metadata": {},
   "outputs": [],
   "source": [
    "def run_one_epoch(train_flag, dataloader, cnn_1d, optimizer, device, dataset_size, epoch):\n",
    "\n",
    "    torch.set_grad_enabled(train_flag)\n",
    "    cnn_1d.train() if train_flag else cnn_1d.eval() \n",
    "\n",
    "    losses = []\n",
    "    accuracies = []\n",
    "    auprcs = []\n",
    "    with tqdm.tqdm(enumerate(dataloader), total=dataset_size, unit=\"batch\") as tepoch:\n",
    "        for idx, (x_cnn, x_rnn, y) in tepoch: #tqdm.tqdm(enumerate(dataloader), total=dataset_size): # collection of tuples with iterator\n",
    "            tepoch.set_description(f\"Epoch {epoch}\")\n",
    "            (x_cnn, x_rnn, y) = ( x_cnn.to(device), x_rnn.to(device), y.to(device) ) # transfer data to GPU\n",
    "\n",
    "            output = cnn_1d(x_cnn, x_rnn) # forward pass\n",
    "            output = output.squeeze() # remove spurious channel dimension\n",
    "            loss = F.binary_cross_entropy_with_logits( output, y ) # numerically stable\n",
    "\n",
    "            if train_flag: \n",
    "                loss.backward() # back propagation\n",
    "                optimizer.step()\n",
    "                optimizer.zero_grad()\n",
    "\n",
    "            losses.append(loss.detach().cpu().numpy())\n",
    "            accuracy = torch.mean( ( (output > .5) == (y > .5) ).float() )\n",
    "#             print('idx',idx, loss.item(), y, output)\n",
    "            auprc = sklearn.metrics.average_precision_score(y.detach().cpu().numpy(), \n",
    "                                                            output.detach().cpu().numpy())\n",
    "            auprcs.append(auprc)\n",
    "            accuracies.append(accuracy.detach().cpu().numpy())  \n",
    "            tepoch.set_postfix(loss=loss.item(), accuracy=100. * accuracy.detach().cpu().numpy(), auprc=100. * auprc)\n",
    "            \n",
    "    \n",
    "    return( np.mean(losses), np.mean(accuracies) )"
   ]
  },
  {
   "cell_type": "code",
   "execution_count": 19,
   "metadata": {},
   "outputs": [],
   "source": [
    "def train_model(cnn_1d, train_data, validation_data, epochs=15, patience=4, verbose = True):\n",
    "    \n",
    "    device = torch.device(\"cuda\" if torch.cuda.is_available() else \"cpu\")\n",
    "    cnn_1d = cnn_1d.to(device)\n",
    "\n",
    "    batch_size = 64\n",
    "    train_dataset = AnchorDataset(train_data, genome, 800)\n",
    "    train_dataloader = torch.utils.data.DataLoader(train_dataset, batch_size=batch_size, num_workers = 16)\n",
    "    \n",
    "    val_dataset = AnchorDataset(val_data, genome, 800)\n",
    "    val_dataloader = torch.utils.data.DataLoader(val_dataset, batch_size=batch_size, num_workers = 16)\n",
    "\n",
    "    optimizer = torch.optim.RMSprop(cnn_1d.parameters())\n",
    "    \n",
    "    train_accs = []\n",
    "    val_accs = []\n",
    "    patience_counter = patience\n",
    "    best_val_loss = np.inf\n",
    "    check_point_filename = 'anchor_model_checkpoint.pt' # to save the best model fit to date\n",
    "    for epoch in range(epochs):\n",
    "        start_time = timeit.default_timer()\n",
    "        \n",
    "        train_loss, train_acc = run_one_epoch(True, train_dataloader, cnn_1d, optimizer, device, 72302, epoch)\n",
    "        val_loss, val_acc = run_one_epoch(False, validation_dataloader, cnn_1d, optimizer, device, 1600, epoch)\n",
    "        \n",
    "        train_accs.append(train_acc)\n",
    "        val_accs.append(val_acc)\n",
    "        \n",
    "        if val_loss < best_val_loss: \n",
    "            torch.save(cnn_1d.state_dict(), check_point_filename)\n",
    "            best_val_loss = val_loss\n",
    "            patience_counter = patience\n",
    "        else: \n",
    "            patience_counter -= 1\n",
    "            if patience_counter <= 0: \n",
    "                cnn_1d.load_state_dict(torch.load(check_point_filename)) # recover the best model so far\n",
    "                break\n",
    "        elapsed = float(timeit.default_timer() - start_time)\n",
    "        \n",
    "        if verbose == True:\n",
    "            print(\"Epoch %i took %.2fs. Train loss: %.4f acc: %.4f. Val loss: %.4f acc: %.4f. Patience left: %i\" % \n",
    "                  (epoch+1, elapsed, train_loss, train_acc, val_loss, val_acc, patience_counter ))\n",
    "    \n",
    "    return cnn_1d, train_accs, val_accs"
   ]
  },
  {
   "cell_type": "code",
   "execution_count": null,
   "metadata": {
    "scrolled": true
   },
   "outputs": [
    {
     "name": "stderr",
     "output_type": "stream",
     "text": [
      "Epoch 0:   0%|          | 236/72302 [04:13<21:33:21,  1.08s/batch, accuracy=100, auprc=100, loss=0.313]"
     ]
    }
   ],
   "source": [
    "my_cnn1d = Anchor_CNN_LSTM()\n",
    "my_cnn1d, train_accs, val_accs = train_model(my_cnn1d, train_data, val_data)"
   ]
  },
  {
   "cell_type": "code",
   "execution_count": null,
   "metadata": {},
   "outputs": [],
   "source": []
  },
  {
   "cell_type": "code",
   "execution_count": null,
   "metadata": {},
   "outputs": [],
   "source": []
  },
  {
   "cell_type": "code",
   "execution_count": null,
   "metadata": {},
   "outputs": [],
   "source": []
  },
  {
   "cell_type": "code",
   "execution_count": 40,
   "metadata": {},
   "outputs": [],
   "source": [
    "model = Anchor_CNN_LSTM()"
   ]
  },
  {
   "cell_type": "code",
   "execution_count": 42,
   "metadata": {},
   "outputs": [
    {
     "data": {
      "text/plain": [
       "torch.Size([10, 1])"
      ]
     },
     "execution_count": 42,
     "metadata": {},
     "output_type": "execute_result"
    }
   ],
   "source": [
    "model(dummy3, dummy).shape"
   ]
  },
  {
   "cell_type": "code",
   "execution_count": 23,
   "metadata": {},
   "outputs": [],
   "source": [
    "m=Anchor_LSTM_Model()"
   ]
  },
  {
   "cell_type": "code",
   "execution_count": 39,
   "metadata": {},
   "outputs": [],
   "source": [
    "dummy = torch.rand((10, 800, 5))"
   ]
  },
  {
   "cell_type": "code",
   "execution_count": 25,
   "metadata": {},
   "outputs": [],
   "source": [
    "b1 = m(dummy)"
   ]
  },
  {
   "cell_type": "code",
   "execution_count": 26,
   "metadata": {},
   "outputs": [
    {
     "data": {
      "text/plain": [
       "torch.Size([10, 800])"
      ]
     },
     "execution_count": 26,
     "metadata": {},
     "output_type": "execute_result"
    }
   ],
   "source": [
    "b1.shape"
   ]
  },
  {
   "cell_type": "code",
   "execution_count": 27,
   "metadata": {},
   "outputs": [],
   "source": [
    "m2=Anchor_CNN_Model()"
   ]
  },
  {
   "cell_type": "code",
   "execution_count": 38,
   "metadata": {},
   "outputs": [],
   "source": [
    "dummy3=torch.rand((10,4000,5))\n",
    "# b2=m2(dummy3)"
   ]
  },
  {
   "cell_type": "code",
   "execution_count": 29,
   "metadata": {},
   "outputs": [
    {
     "data": {
      "text/plain": [
       "torch.Size([10, 1536])"
      ]
     },
     "execution_count": 29,
     "metadata": {},
     "output_type": "execute_result"
    }
   ],
   "source": [
    "b2.shape"
   ]
  },
  {
   "cell_type": "code",
   "execution_count": 30,
   "metadata": {},
   "outputs": [
    {
     "data": {
      "text/plain": [
       "torch.Size([10, 2336])"
      ]
     },
     "execution_count": 30,
     "metadata": {},
     "output_type": "execute_result"
    }
   ],
   "source": [
    "dummy4=torch.cat((b2,b1), -1)\n",
    "dummy4.shape"
   ]
  },
  {
   "cell_type": "code",
   "execution_count": 36,
   "metadata": {},
   "outputs": [],
   "source": [
    "classifier = nn.Sequential(\n",
    "                            nn.Linear(5536, 512),\n",
    "                            nn.BatchNorm1d(512),\n",
    "                            nn.LeakyReLU(0.2),\n",
    "                            nn.Dropout(0.2),\n",
    "            \n",
    "                            nn.Linear(512, 256),\n",
    "                            nn.BatchNorm1d(256),\n",
    "                            nn.LeakyReLU(0.2),\n",
    "                            nn.Dropout(0.2),\n",
    "                            \n",
    "                            nn.Linear(256, 1),\n",
    "                            nn.Sigmoid()\n",
    "                        )"
   ]
  },
  {
   "cell_type": "code",
   "execution_count": 35,
   "metadata": {},
   "outputs": [
    {
     "ename": "NameError",
     "evalue": "name 'classifier' is not defined",
     "output_type": "error",
     "traceback": [
      "\u001b[0;31m---------------------------------------------------------------------------\u001b[0m",
      "\u001b[0;31mNameError\u001b[0m                                 Traceback (most recent call last)",
      "\u001b[0;32m<ipython-input-35-4724d8f72c8d>\u001b[0m in \u001b[0;36m<module>\u001b[0;34m\u001b[0m\n\u001b[0;32m----> 1\u001b[0;31m \u001b[0mclassifier\u001b[0m\u001b[0;34m(\u001b[0m\u001b[0mdummy4\u001b[0m\u001b[0;34m)\u001b[0m\u001b[0;34m.\u001b[0m\u001b[0mshape\u001b[0m\u001b[0;34m\u001b[0m\u001b[0;34m\u001b[0m\u001b[0m\n\u001b[0m",
      "\u001b[0;31mNameError\u001b[0m: name 'classifier' is not defined"
     ]
    }
   ],
   "source": [
    "classifier(dummy4).shape"
   ]
  },
  {
   "cell_type": "code",
   "execution_count": 95,
   "metadata": {},
   "outputs": [
    {
     "data": {
      "text/plain": [
       "torch.Size([10, 1, 4000, 5])"
      ]
     },
     "execution_count": 95,
     "metadata": {},
     "output_type": "execute_result"
    }
   ],
   "source": [
    "dummy2=torch.rand((10, 1, 4000, 5))\n",
    "dummy2.shape"
   ]
  },
  {
   "cell_type": "code",
   "execution_count": 103,
   "metadata": {},
   "outputs": [],
   "source": [
    "layer1_out=256\n",
    "layer2_out=512\n",
    "dropout=0.2\n",
    "layer1 = nn.Sequential(\n",
    "                        nn.Conv2d(in_channels=1, out_channels=layer1_out, kernel_size=(17,5)),\n",
    "                        nn.BatchNorm2d(layer1_out),\n",
    "                        nn.LeakyReLU(0.2),\n",
    "                        nn.Dropout2d(dropout),\n",
    "                    )"
   ]
  },
  {
   "cell_type": "code",
   "execution_count": 114,
   "metadata": {},
   "outputs": [
    {
     "name": "stdout",
     "output_type": "stream",
     "text": [
      "torch.Size([10, 1, 4000, 5])\n"
     ]
    },
    {
     "data": {
      "text/plain": [
       "torch.Size([10, 256, 3984, 1])"
      ]
     },
     "execution_count": 114,
     "metadata": {},
     "output_type": "execute_result"
    }
   ],
   "source": [
    "print(dummy2.shape)\n",
    "o1=layer1(dummy2)\n",
    "o1.shape"
   ]
  },
  {
   "cell_type": "code",
   "execution_count": 130,
   "metadata": {},
   "outputs": [],
   "source": [
    "layer2_1 = nn.Sequential(\n",
    "                        nn.Conv2d(in_channels=layer1_out, out_channels=layer2_out, kernel_size=(5,1), dilation=1, padding='same'),\n",
    "                        nn.BatchNorm2d(layer2_out),\n",
    "                        nn.LeakyReLU(0.2),\n",
    "                        nn.MaxPool2d(kernel_size=(4000 - 16, 1), stride=(4000 - 16, 1)),\n",
    "                        nn.Dropout2d(dropout),\n",
    "                    )"
   ]
  },
  {
   "cell_type": "code",
   "execution_count": 124,
   "metadata": {},
   "outputs": [
    {
     "data": {
      "text/plain": [
       "torch.Size([10, 256, 3984, 1])"
      ]
     },
     "execution_count": 124,
     "metadata": {},
     "output_type": "execute_result"
    }
   ],
   "source": [
    "o1.shape"
   ]
  },
  {
   "cell_type": "code",
   "execution_count": 127,
   "metadata": {},
   "outputs": [],
   "source": [
    "dummy3=torch.rand((10, 256, 3984, 1))\n",
    "ll=nn.Conv2d(in_channels=256, out_channels=512, kernel_size=(5,1), dilation=1)"
   ]
  },
  {
   "cell_type": "code",
   "execution_count": 131,
   "metadata": {},
   "outputs": [
    {
     "data": {
      "text/plain": [
       "torch.Size([10, 512, 1, 1])"
      ]
     },
     "execution_count": 131,
     "metadata": {},
     "output_type": "execute_result"
    }
   ],
   "source": [
    "layer2_1(o1).shape"
   ]
  },
  {
   "cell_type": "code",
   "execution_count": null,
   "metadata": {},
   "outputs": [],
   "source": []
  }
 ],
 "metadata": {
  "kernelspec": {
   "display_name": "Python 3",
   "language": "python",
   "name": "python3"
  },
  "language_info": {
   "codemirror_mode": {
    "name": "ipython",
    "version": 3
   },
   "file_extension": ".py",
   "mimetype": "text/x-python",
   "name": "python",
   "nbconvert_exporter": "python",
   "pygments_lexer": "ipython3",
   "version": "3.8.5"
  }
 },
 "nbformat": 4,
 "nbformat_minor": 4
}
