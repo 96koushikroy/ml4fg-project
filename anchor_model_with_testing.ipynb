{
 "cells": [
  {
   "cell_type": "code",
   "execution_count": 1,
   "metadata": {},
   "outputs": [
    {
     "data": {
      "text/plain": [
       "<torch._C.Generator at 0x7f1d900e1ab0>"
      ]
     },
     "execution_count": 1,
     "metadata": {},
     "output_type": "execute_result"
    }
   ],
   "source": [
    "import torch\n",
    "import torch.nn as nn\n",
    "import torch.utils.data\n",
    "import torch.nn.functional as F\n",
    "import numpy as np\n",
    "import pandas as pd\n",
    "import timeit\n",
    "import tqdm\n",
    "import sklearn.metrics\n",
    "import math\n",
    "\n",
    "torch.manual_seed(2)"
   ]
  },
  {
   "cell_type": "code",
   "execution_count": 2,
   "metadata": {},
   "outputs": [],
   "source": [
    "%load_ext Cython"
   ]
  },
  {
   "cell_type": "code",
   "execution_count": 3,
   "metadata": {},
   "outputs": [],
   "source": [
    "%%cython\n",
    "\n",
    "import numpy as np\n",
    "np.get_include() # do we need this on colab? \n",
    "cimport cython\n",
    "cimport numpy as np\n",
    "\n",
    "cdef dict bases={ 'A':<int>0, 'C':<int>1, 'G':<int>2, 'T':<int>3, 'N':<int>4, } \n",
    "\n",
    "@cython.boundscheck(False)\n",
    "def one_hot( str string ):\n",
    "    cdef np.ndarray[np.float32_t, ndim=2] res = np.zeros( (5,len(string)), dtype=np.float32 )\n",
    "    cdef int j\n",
    "    for j in range(len(string)):\n",
    "        if string[j] in bases: # bases can be 'N' signifying missing: this corresponds to all 0 in the encoding\n",
    "            res[ bases[ string[j] ], j ]=float(1.0)\n",
    "    return(res)\n"
   ]
  },
  {
   "cell_type": "code",
   "execution_count": 4,
   "metadata": {},
   "outputs": [
    {
     "name": "stdout",
     "output_type": "stream",
     "text": [
      "torch.Size([5, 19])\n"
     ]
    },
    {
     "data": {
      "text/plain": [
       "tensor([1., 4., 7., 0., 7.])"
      ]
     },
     "execution_count": 4,
     "metadata": {},
     "output_type": "execute_result"
    }
   ],
   "source": [
    "x_np = one_hot(\"CCGCGNGGNGGCAGNNNNN\") #ACGTN\n",
    "x_tensor = torch.tensor(x_np)\n",
    "print(x_tensor.shape)\n",
    "torch.sum(x_tensor, 1)"
   ]
  },
  {
   "cell_type": "code",
   "execution_count": 5,
   "metadata": {},
   "outputs": [],
   "source": [
    "data_dir = './data/'\n",
    "train_data = pd.read_csv(data_dir + 'anchor_datasets/anchor_master_train.csv')\n",
    "val_data = pd.read_csv(data_dir + 'anchor_datasets/anchor_master_val.csv')\n",
    "test_data = pd.read_csv(data_dir + 'anchor_datasets/anchor_master_test.csv')"
   ]
  },
  {
   "cell_type": "code",
   "execution_count": 6,
   "metadata": {},
   "outputs": [
    {
     "data": {
      "text/html": [
       "<div>\n",
       "<style scoped>\n",
       "    .dataframe tbody tr th:only-of-type {\n",
       "        vertical-align: middle;\n",
       "    }\n",
       "\n",
       "    .dataframe tbody tr th {\n",
       "        vertical-align: top;\n",
       "    }\n",
       "\n",
       "    .dataframe thead th {\n",
       "        text-align: right;\n",
       "    }\n",
       "</style>\n",
       "<table border=\"1\" class=\"dataframe\">\n",
       "  <thead>\n",
       "    <tr style=\"text-align: right;\">\n",
       "      <th></th>\n",
       "      <th>Unnamed: 0</th>\n",
       "      <th>chrom</th>\n",
       "      <th>start</th>\n",
       "      <th>end</th>\n",
       "      <th>anchor</th>\n",
       "    </tr>\n",
       "  </thead>\n",
       "  <tbody>\n",
       "    <tr>\n",
       "      <th>0</th>\n",
       "      <td>21160</td>\n",
       "      <td>chr11</td>\n",
       "      <td>126260165</td>\n",
       "      <td>126264165</td>\n",
       "      <td>1</td>\n",
       "    </tr>\n",
       "    <tr>\n",
       "      <th>1</th>\n",
       "      <td>7138</td>\n",
       "      <td>chr3</td>\n",
       "      <td>127812310</td>\n",
       "      <td>127816310</td>\n",
       "      <td>1</td>\n",
       "    </tr>\n",
       "    <tr>\n",
       "      <th>2</th>\n",
       "      <td>32125</td>\n",
       "      <td>chr22</td>\n",
       "      <td>21981895</td>\n",
       "      <td>21985895</td>\n",
       "      <td>1</td>\n",
       "    </tr>\n",
       "    <tr>\n",
       "      <th>3</th>\n",
       "      <td>27254</td>\n",
       "      <td>chr17</td>\n",
       "      <td>4633544</td>\n",
       "      <td>4637544</td>\n",
       "      <td>1</td>\n",
       "    </tr>\n",
       "    <tr>\n",
       "      <th>4</th>\n",
       "      <td>12346</td>\n",
       "      <td>chr6</td>\n",
       "      <td>86883220</td>\n",
       "      <td>86887220</td>\n",
       "      <td>1</td>\n",
       "    </tr>\n",
       "  </tbody>\n",
       "</table>\n",
       "</div>"
      ],
      "text/plain": [
       "   Unnamed: 0  chrom      start        end  anchor\n",
       "0       21160  chr11  126260165  126264165       1\n",
       "1        7138   chr3  127812310  127816310       1\n",
       "2       32125  chr22   21981895   21985895       1\n",
       "3       27254  chr17    4633544    4637544       1\n",
       "4       12346   chr6   86883220   86887220       1"
      ]
     },
     "execution_count": 6,
     "metadata": {},
     "output_type": "execute_result"
    }
   ],
   "source": [
    "train_data.head()"
   ]
  },
  {
   "cell_type": "code",
   "execution_count": 7,
   "metadata": {},
   "outputs": [],
   "source": [
    "import pickle\n",
    "genome = pickle.load(open(data_dir+\"hg38-003.pkl\",\"rb\"))"
   ]
  },
  {
   "cell_type": "code",
   "execution_count": 8,
   "metadata": {
    "scrolled": true
   },
   "outputs": [
    {
     "data": {
      "text/plain": [
       "'GGGACTACAGGTGCCCACTACCACGCCTGGCTAATTTTTTGTATTTTCAGTAGAGACGGGGTTTCACTGTGTTAGCCAGGATGGTCTCGATCTCCTGACCTCGTGATCCGCCCACCTCAGCCTCCCAAAGTGCTAGGATTACAGGTGTTAGCCACCGTGCCCAGCTAGTTTCTTTTCTTTTCTTTTTTTTTTTTTGAGCCGGAGTCTCACTCTGTCTCCCAGGCCAGAGTACAGTAGCGCGATCTCGGCTCACTGCAACCTCCACCTCCAGGGTTCAAGCAATTCTCCTGCCTCAGCCTCCCAAGTAGCTGGGATTACAGACACCCGCCACAACGCCTGGCTAATTTTTGTATTTTTAGTAGAGACGGGGTTTCACCATTTTGGCCAGGCTGGTTTTGAACTCCTGACTTTGTGATCCCCCCACCTCGGCCTCCCAAAGTGCTGGGATTATAGGTGTGAGCCATCACTCCCGGCCTAAAAATTATTATTATTATTTTGGGTTTTTTTTGAGACAGAGTCTTGCTCTGTCACCCAGGCTGGAGTGCATTGGCCCAATGTTAGCTTGCTGCGCAACCTCTGCCTCTCGGGTTCAAGCGATTCTGCTGCCTCCACCTCCCAAGTAGTTGGGATTATAGGCATGTGCCATCATGCCCAGCTAATTCTTGTATTTTCAGTAGACATGTGGTTTCACCATGTTGGCCAGGCTAGTCCTGAACTCCTGACCTCAAGTGATCCATCTGCCTCGGCCTCCCAAAGTGCTGGGATTACAGGTGTGAGCCACCATGCCTGGCCTAAAAATTATTATTTATATATATATATATATAAAATATATATATGGAGCCTTGCTCTTGTTGCCCAGGCTGGAGTGCATATATACTATATATATATATATATATATATATATTTTTTTTTTTTTTTTTTTTTTTTGACACAGGGTCTCCCTCTGTCACCCAGGCTGGAGTGCAGTGGCACAATCACTACTCACTGCAGCCTCCACCTCCCAGGTTCAAGCAATCCTCCCACCTCAGCCTCCTCCTGGTCTACAGGCGCACACCACCAAGCCTGGCTAAGTTTTGGGTCTTTTGTAGAGACAAAATTTTGCCATGTTGTCTAGGCTGGTCTCCAACTCCTGGGCTCAAGTTATCTGCCCGCCTTGGCCTCCCAAAGTGCTGAGATTACAGGCATGAGCCACTGTGCCTGGCCAGTCCTCTCTTTTCTAATGAGATACCTGCCTGAGGCCAAATTTTCTTCATATACATCAATGAAAACATATTGCAACAGATTAAATCAGAAACTGATGAAAATCCAGCTGTCTTCTATGAAGTCAGGCATTAACGAGATTTGCAAAAATGTAAAACAAGGCTATACTTCTCATTATTTTTGTTTTGGAAAATAGTTTTCATTTAAAAAAATACAATGCTTATGGATTTTTTGTTTTGTTTTGTTTTGTTTTTTTGAGACAGACTCTTGCTCTGTCACCCAGGCTGGAATGCAGTGGCGTGATCTCAGCTCACTGCAAGCTCCGCCTCTCGGGTTCACGCCATTCTCCTGCCTCAGCCTCCCGAGTAGCTGGGACTAAAGGTGCCCGCCACCACACCTGGCTAATTTTTCTGTATTTTTCAGTAGAGACAGGGTTTCACTGTGTTAGCCAGGATGGTCTCGATCTCCTGACCTCGTGATCCACCCGCCTTGGCCTCCCAAAGTGTTGGGATTACAGGCGTGAGCCACTGTGCCCGGCCGTTTTGTTTTTTTTTTTAAGACGGAGTCTCGCTTTGCCACCAGGCTGGAGTGCAGTGGCACGATCTCGGCTCACTGCAACCTCTGACTCCCTGGTTCAAGCGATTCTCCTGCCTCAGCCTCCCAAGTAGCTGGGACTACAGGCATGCACGACCATGCCCAGCTAATTTTTGTATTTTTAGTAGAGACGGTTTTCAACATATTGGCCAGGATGGTCTCAATCTCTCGACCTTGTGATCCGCCCGCCTCGGCCTCCCAAAGTGCTGGGATTACAGGCGTGAGCCACCGCGCCTGGCCAAAAAAAAATTACAATGCTTATGTTAACATGCAATGAGTTTCTTATTGTTACTTTAAATAAATTAATATTTAAAATTTCTCATATCAAATTTTTTATCAGAAACAAAATAACAACAGGTATAGGGAGGGACAAGTCAAAAGCTTATATTATTTATTCCAGGGAATGCCATGTCGGGTGCACCGATTATTAGGTATAGCCTAAAAAACAAAAGTTCTGGCCAGGCATAGTGGCATGCGCCTGTAATCACAGCACTTTGGGAGGCCGAGGCGGACGGATCATGAGGTCAGGAGTTCAAGACTAGTCTGACCAAAATGGTGAAACCCTGTCTCTAATAAAAATACAAAAATTAGCTGGGTGTGGTCGCACATGCCTGTAATCCCAGCTACTCAGGAGGCTGAGGCACGAGAATCGCTTGAACCCGGGAGGCGGAGGTTGCAGTGAGCCGAGATTGCGCCATTGCACTCCACCCTGGGCGACAGAGTGAGACTCGGTCTCAAAAAAAAAAAAAAAAAAAAGTTCTTTGGGATCCTCAATAATTTTTCAGAATGTAAAGTGGTCCTGAGATCAGAAGGCTTAAAAATTGCTGCAGCAGACCTAATATGTCAGTCTCTAAAATGCCCAATTCCAAGCCTGGTTATCTAGTTCTTGGTATTCTTTACCCTTATTCACATTTTTACCTCTTGGCCCCATTGTGCTGCTGGATTTTTTTTAACTATATTAGGGCAGGGTGCAGTGGCTCACATCTGTAATACCAGCACTTTGGGTGGCCAAGGTGGGCAGATCGCTTGAGCCCAGGAGTTCAAGACCAGCCTGCGCAACATGGCAAAACCCTGTCTCCACCAAAAATACAAAAAATTAACTGGGCGTGGTGGCTTGTGCCTGTGGTCCCAGTTACTTGGGAGGTTGAGGCAGGAGAACTGCTTGAGCCCAGGAGGCAGGAGCTGCAGTGAGCTGAGACTGTGCCACTACACTCTAGCCTGGGTGACAGAGTGAGACCCCATCTCAACTAAAAAAAAAAAAAAGCAAGAAGAGGGCATATCAAAAATAATCATTGTTCTACAAATAATAGTGATTATAGAAATAACCACTAGTTCTTTTAGAAATAAGAAATAATCAGTAATACTATAGAAAAAGAATAAGAAATAAGCCTAATAATTGCCATAGAAATAACATAAAAATTATTTCTATAATATGGCCTTCAGTAAAAAACTCAGAACATTCAGAAGAGTAAAAAGACCCAAAAGCAACCACCATTTAAAACTGCTCCGGAATAATTTCTCATCTAATCCATTCTTCTTTTATCTCCTCAAATGGCACCTTTGAGAAGAAATTCCTGGTTAACCCATGCAAAAGCAACCACTCCTTCCTCCAGATTCCCACAGCATTGTAGTTGAAACCTTTCTTGAGGCCCAGCTAGACCATAAAAGTATGCATACTGAATTCCTAAATGTGCATATTTAACGGTCATAAATTCAGTTATATCTACTGGAAGAGACACCAACCAACCACAGAAACCTATGTACTATTTATATGATGTGATCCCTTCACCCAGGCTTAACATAATGCTTAACCAAAGACCAGAGCCTGTGTTCCAACAAAAACTGGCCATGCTGAGGAATCTTAGAAATGGAAGAGAATGTCCAAATCATGTATCCTGTGTTTTATGAGCAGTCTCTTTAAAATAGAGACTTTAATAGTAACTTTGATGTGTGTCTTGTTTTTACACTGACTTTGAACCCAACACTGTGTCAAATGTGGCTCCACTACATGAAGAATGGACAAGTGAATGGTTCCAAGGCCTCTGAGACTTACAGATGTTGGATGAATATACTAGGTGACTGAGCCCAGGAGTCCTCGACCCATGTAGTCCTGTCCTCTGGACAGGGTATGTGGCATCCCCTCTAGGCCAGGGCTGCCACCCATTGCTGGGTGAAGGTCTCAGGTGTCACTTGAAGGCCAAGGTGA'"
      ]
     },
     "execution_count": 8,
     "metadata": {},
     "output_type": "execute_result"
    }
   ],
   "source": [
    "genome[\"chr6\"][42035500:42039500]"
   ]
  },
  {
   "cell_type": "code",
   "execution_count": 9,
   "metadata": {},
   "outputs": [
    {
     "data": {
      "text/plain": [
       "133797422"
      ]
     },
     "execution_count": 9,
     "metadata": {},
     "output_type": "execute_result"
    }
   ],
   "source": [
    "len(genome[\"chr10\"])"
   ]
  },
  {
   "cell_type": "code",
   "execution_count": 10,
   "metadata": {
    "scrolled": true
   },
   "outputs": [
    {
     "data": {
      "text/plain": [
       "0.0"
      ]
     },
     "execution_count": 10,
     "metadata": {},
     "output_type": "execute_result"
    }
   ],
   "source": [
    "cnt=0\n",
    "\n",
    "context_length = 4000\n",
    "for i,row in enumerate(test_data.itertuples()):\n",
    "    midpoint = int(.5 * (row.start + row.end))\n",
    "    seq = genome[row.chrom][midpoint - context_length//2:midpoint + context_length//2]\n",
    "    if(np.isnan(row.anchor)):\n",
    "        cnt += 1\n",
    "    else:\n",
    "        pass\n",
    "#         seq2 = genome[row.chrom][row.start:row.end]\n",
    "#         print(len(seq),len(seq2), row.anchor, len(genome[row.chrom]))\n",
    "cnt/len(val_data)"
   ]
  },
  {
   "cell_type": "code",
   "execution_count": 11,
   "metadata": {},
   "outputs": [],
   "source": [
    "# class AnchorDataset(torch.utils.data.IterableDataset):\n",
    "\n",
    "#     def __init__(self, anchor_data, genome, rnn_length):\n",
    "#         super().__init__()\n",
    "#         self.rnn_len = rnn_length\n",
    "#         self.anchor_data = anchor_data\n",
    "#         self.genome = genome\n",
    "#         self.context_len = 4000\n",
    "        \n",
    "#     def __iter__(self): \n",
    "#         for i,row in enumerate(self.anchor_data.itertuples()):\n",
    "#             lab = row.anchor\n",
    "#             midpoint = int(.5 * (row.start + row.end))\n",
    "#             seq = self.genome[row.chrom][ midpoint - self.context_len//2:midpoint + self.context_len//2]\n",
    "#             if len(seq) < self.context_len:\n",
    "#                 continue\n",
    "            \n",
    "#             oh_cnn_seq = one_hot(seq).transpose() # 4k, 5\n",
    "#             #for rnn\n",
    "#             rnn_start = int(self.context_len / 2 - self.rnn_len / 2)\n",
    "#             rnn_end = int(self.context_len / 2 + self.rnn_len / 2)\n",
    "#             rnn_seq = seq[rnn_start: rnn_end]\n",
    "#             oh_rnn_seq = one_hot(rnn_seq).transpose()\n",
    "            \n",
    "#             yield(oh_cnn_seq, oh_rnn_seq, np.float32(lab))\n",
    "            "
   ]
  },
  {
   "cell_type": "code",
   "execution_count": 12,
   "metadata": {},
   "outputs": [],
   "source": [
    "class AnchorDataset(torch.utils.data.Dataset):\n",
    "\n",
    "    def __init__(self, anchor_data, genome, rnn_length, test_set=False):\n",
    "        super().__init__()\n",
    "        self.rnn_len = rnn_length\n",
    "        self.anchor_data = anchor_data\n",
    "        self.genome = genome\n",
    "        self.test_set = test_set\n",
    "        self.context_len = 4000\n",
    "        self.processed_data = []\n",
    "        \n",
    "        print('Preparing a dataset...')\n",
    "        for i,row in tqdm.tqdm(enumerate(self.anchor_data.itertuples()), total=len(anchor_data)):\n",
    "            lab = row.anchor if self.test_set == False else 0\n",
    "            midpoint = int(.5 * (row.start + row.end))\n",
    "            seq = self.genome[row.chrom][ midpoint - self.context_len//2:midpoint + self.context_len//2]\n",
    "            if len(seq) < self.context_len or np.isnan(lab):\n",
    "                continue\n",
    "            \n",
    "            oh_cnn_seq = one_hot(seq).transpose() # 4k, 5\n",
    "            #for rnn\n",
    "            rnn_start = int(self.context_len / 2 - self.rnn_len / 2)\n",
    "            rnn_end = int(self.context_len / 2 + self.rnn_len / 2)\n",
    "            rnn_seq = seq[rnn_start: rnn_end]\n",
    "            oh_rnn_seq = one_hot(rnn_seq).transpose()\n",
    "            self.processed_data.append((oh_cnn_seq, oh_rnn_seq, np.float32(lab)))\n",
    "        \n",
    "        \n",
    "    def __len__(self): \n",
    "        return len(self.processed_data)\n",
    "    \n",
    "    def __getitem__(self, idx): \n",
    "        return self.processed_data[idx]\n",
    "            "
   ]
  },
  {
   "cell_type": "code",
   "execution_count": 19,
   "metadata": {},
   "outputs": [],
   "source": [
    "class Anchor_LSTM_Model(nn.Module):\n",
    "    def __init__(self, in_dim=5, hid_dim=128, out_dim=1):\n",
    "        super().__init__()\n",
    "        self.lstm1 = nn.LSTM(in_dim, hid_dim, batch_first=True, bidirectional=True)\n",
    "        self.lstm2 = nn.LSTM(hid_dim * 2, hid_dim, batch_first=True, bidirectional=True)\n",
    "        self.fc = nn.Linear(hid_dim * 2, out_dim)\n",
    "        \n",
    "    def forward(self, x):\n",
    "        batch_size = x.shape[0]\n",
    "        x, _ = self.lstm1(x)\n",
    "        x, _ = self.lstm2(x)\n",
    "        return self.fc(x).view(batch_size, -1)\n",
    "\n",
    "    \n",
    "class Anchor_CNN_Model(nn.Module):\n",
    "    def __init__(self, layer1_out=256, layer2_out=512, dropout=0.2):\n",
    "        super().__init__()\n",
    "        self.seq_len = 4000\n",
    "        \n",
    "        self.layer1 = nn.Sequential(\n",
    "                        nn.Conv2d(in_channels=1, out_channels=layer1_out, kernel_size=(17,5)),\n",
    "                        nn.BatchNorm2d(layer1_out),\n",
    "                        nn.LeakyReLU(0.2),\n",
    "                        nn.Dropout2d(dropout),\n",
    "                    )\n",
    "        \n",
    "        #dilated conv dilation=1\n",
    "        self.layer2_1 = nn.Sequential(\n",
    "                        nn.Conv2d(in_channels=layer1_out, out_channels=layer2_out, kernel_size=(5,1), dilation=1, padding='same'),\n",
    "                        nn.BatchNorm2d(layer2_out),\n",
    "                        nn.LeakyReLU(0.2),\n",
    "                        nn.MaxPool2d(kernel_size=(self.seq_len - 16, 1), stride=(self.seq_len - 16, 1)),\n",
    "                        nn.Dropout2d(dropout),\n",
    "                    )\n",
    "        \n",
    "        #dilated conv dilation=3\n",
    "        self.layer2_2 = nn.Sequential(\n",
    "                        nn.Conv2d(in_channels=layer1_out, out_channels=layer2_out, kernel_size=(5,1), dilation=3, padding='same'),\n",
    "                        nn.BatchNorm2d(layer2_out),\n",
    "                        nn.LeakyReLU(0.2),\n",
    "                        nn.MaxPool2d(kernel_size=(self.seq_len - 16, 1), stride=(self.seq_len - 16, 1)),\n",
    "                        nn.Dropout2d(dropout),\n",
    "                    )\n",
    "        \n",
    "        #dilated conv dilation=7\n",
    "        self.layer2_3 = nn.Sequential(\n",
    "                        nn.Conv2d(in_channels=layer1_out, out_channels=layer2_out, kernel_size=(5,1), dilation=7, padding='same'),\n",
    "                        nn.BatchNorm2d(layer2_out),\n",
    "                        nn.LeakyReLU(0.2),\n",
    "                        nn.MaxPool2d(kernel_size=(self.seq_len - 16, 1), stride=(self.seq_len - 16, 1)),\n",
    "                        nn.Dropout2d(dropout),\n",
    "                    )\n",
    "        \n",
    "    def forward(self, x):\n",
    "        x = x.unsqueeze(1) #[*, 1, 4k, 5]\n",
    "        batch_size = x.shape[0]\n",
    "        x = self.layer1(x)\n",
    "        o1 = self.layer2_1(x).view(batch_size, -1)\n",
    "        o2 = self.layer2_2(x).view(batch_size, -1)\n",
    "        o3 = self.layer2_3(x).view(batch_size, -1)\n",
    "        out = torch.cat((o1,o2,o3), -1)\n",
    "        return out\n",
    "        \n",
    "        \n",
    "class Anchor_CNN_LSTM(nn.Module):\n",
    "    def __init__(self,\n",
    "                 use_lstm=True,\n",
    "                 use_cnn=True):\n",
    "        super().__init__()\n",
    "        \n",
    "        out_dim = 0\n",
    "        self.use_lstm = use_lstm\n",
    "        self.use_cnn = use_cnn\n",
    "        \n",
    "        if use_lstm == True:\n",
    "            self.lstm_model = Anchor_LSTM_Model()\n",
    "            out_dim += 800\n",
    "            \n",
    "        if use_cnn == True:\n",
    "            self.cnn_model = Anchor_CNN_Model()\n",
    "            out_dim += 1536\n",
    "        \n",
    "        \n",
    "        self.classifier = nn.Sequential(\n",
    "                            nn.Linear(out_dim, 512),\n",
    "                            nn.BatchNorm1d(512),\n",
    "                            nn.LeakyReLU(0.2),\n",
    "                            nn.Dropout(0.2),\n",
    "            \n",
    "                            nn.Linear(512, 256),\n",
    "                            nn.BatchNorm1d(256),\n",
    "                            nn.LeakyReLU(0.2),\n",
    "                            nn.Dropout(0.2),\n",
    "                            \n",
    "                            nn.Linear(256, 1),\n",
    "                            nn.Sigmoid()\n",
    "                        )\n",
    "\n",
    "    def forward(self, x_cnn, x_rnn):\n",
    "        if self.use_lstm == True and self.use_cnn == True:\n",
    "            x2 = self.cnn_model(x_cnn)\n",
    "            x1 = self.lstm_model(x_rnn)\n",
    "            x = torch.cat((x2, x1), -1)\n",
    "        elif self.use_lstm == True:\n",
    "            x = self.lstm_model(x_rnn)\n",
    "        elif self.use_cnn == True:\n",
    "            x = self.cnn_model(x_cnn)\n",
    "\n",
    "        out = self.classifier(x)\n",
    "\n",
    "        return out\n",
    "        "
   ]
  },
  {
   "cell_type": "code",
   "execution_count": 20,
   "metadata": {},
   "outputs": [],
   "source": [
    "# batch_size = 64\n",
    "# train_dataset = AnchorDataset(train_data, genome, 800)\n",
    "# train_dataloader = torch.utils.data.DataLoader(train_dataset, batch_size=batch_size, num_workers = 0) 72302\n",
    "\n",
    "# val_dataset = AnchorDataset(val_data, genome, 800)\n",
    "# val_dataloader = torch.utils.data.DataLoader(val_dataset, batch_size=batch_size, num_workers = 0) 1600\n",
    "\n",
    "# test_dataset = AnchorDataset(test_data, genome, 800)\n",
    "# test_dataloader = torch.utils.data.DataLoader(test_dataset, batch_size=batch_size, num_workers = 0) 5670\n"
   ]
  },
  {
   "cell_type": "code",
   "execution_count": 21,
   "metadata": {},
   "outputs": [],
   "source": [
    "def run_one_epoch(train_flag, dataloader, cnn_1d, optimizer, device, dataset_size, epoch):\n",
    "\n",
    "    torch.set_grad_enabled(train_flag)\n",
    "    cnn_1d.train() if train_flag else cnn_1d.eval() \n",
    "\n",
    "    losses = []\n",
    "#     accuracies = []\n",
    "#     auprcs = []\n",
    "    \n",
    "    all_ys = []\n",
    "    all_probs = []\n",
    "    \n",
    "    with tqdm.tqdm(enumerate(dataloader), total=(dataset_size), unit=\"batch\") as tepoch:\n",
    "        for idx, (x_cnn, x_rnn, y) in tepoch: #tqdm.tqdm(enumerate(dataloader), total=dataset_size): # collection of tuples with iterator\n",
    "            tepoch.set_description(f\"Epoch {epoch+1}\")\n",
    "            (x_cnn, x_rnn, y) = ( x_cnn.to(device), x_rnn.to(device), y.to(device) ) # transfer data to GPU\n",
    "\n",
    "            output = cnn_1d(x_cnn, x_rnn) # forward pass\n",
    "            output = output.squeeze() # remove spurious channel dimension\n",
    "            loss = F.binary_cross_entropy( output, y ) # numerically stable\n",
    "\n",
    "            if train_flag: \n",
    "                loss.backward() # back propagation\n",
    "                optimizer.step()\n",
    "                optimizer.zero_grad()\n",
    "\n",
    "            losses.append(loss.detach().cpu().numpy())\n",
    "            accuracy = torch.mean( ( (output > .5) == (y > .5) ).float() )\n",
    "#             print('idx',idx, loss.item(), y, output)\n",
    "\n",
    "            y_np = y.detach().cpu().numpy()\n",
    "            probs_np = output.detach().cpu().numpy()\n",
    "        \n",
    "#             auprc = sklearn.metrics.average_precision_score(y_np, probs_np)\n",
    "#             auprcs.append(auprc)\n",
    "#             accuracies.append(accuracy.detach().cpu().numpy())\n",
    "            \n",
    "            all_ys.extend(y_np.tolist())\n",
    "            all_probs.extend(probs_np.tolist())\n",
    "            \n",
    "            tepoch.set_postfix(loss=loss.item(), batch_accuracy=100. * accuracy.detach().cpu().numpy())#, batch_auprc=100. * auprc)\n",
    "            \n",
    "    all_ys = np.array(all_ys)\n",
    "    all_probs = np.array(all_probs)\n",
    "    precision, recall, thresholds = sklearn.metrics.precision_recall_curve(all_ys, all_probs)\n",
    "    epoch_acc = np.mean( ( (all_probs > .5) == (all_ys > .5) ) )\n",
    "    \n",
    "    return( np.mean(losses), epoch_acc, precision, recall)"
   ]
  },
  {
   "cell_type": "code",
   "execution_count": 22,
   "metadata": {},
   "outputs": [],
   "source": [
    "def train_model(cnn_1d, train_data, validation_data, epochs=15, patience=4, verbose = True):\n",
    "    \n",
    "    device = torch.device(\"cuda\" if torch.cuda.is_available() else \"cpu\")\n",
    "    cnn_1d = cnn_1d.to(device)\n",
    "\n",
    "    batch_size = 64\n",
    "    train_dataset = AnchorDataset(train_data, genome, 800)\n",
    "    train_dataloader = torch.utils.data.DataLoader(train_dataset, batch_size=batch_size, num_workers = 0, shuffle=True)\n",
    "    \n",
    "    val_dataset = AnchorDataset(val_data, genome, 800)\n",
    "    val_dataloader = torch.utils.data.DataLoader(val_dataset, batch_size=batch_size, num_workers = 0)\n",
    "\n",
    "    optimizer = torch.optim.RMSprop(cnn_1d.parameters())\n",
    "    \n",
    "    train_accs = []\n",
    "    val_accs = []\n",
    "    patience_counter = patience\n",
    "    best_val_loss = np.inf\n",
    "    check_point_filename = 'anchor_model_checkpoint_cnn.pt' # to save the best model fit to date\n",
    "    for epoch in range(epochs):\n",
    "        start_time = timeit.default_timer()\n",
    "        \n",
    "        train_loss, train_acc, train_pr, train_rec = run_one_epoch(True, train_dataloader, cnn_1d, optimizer, device, math.ceil(len(train_dataset)/batch_size), epoch)\n",
    "        val_loss, val_acc, val_pr, val_rec = run_one_epoch(False, val_dataloader, cnn_1d, optimizer, device, math.ceil(len(val_dataset)/batch_size), epoch)\n",
    "        \n",
    "        train_accs.append(train_acc)\n",
    "        val_accs.append(val_acc)\n",
    "        \n",
    "        if val_loss < best_val_loss: \n",
    "            torch.save(cnn_1d.state_dict(), check_point_filename)\n",
    "            best_val_loss = val_loss\n",
    "            patience_counter = patience\n",
    "        else: \n",
    "            patience_counter -= 1\n",
    "            if patience_counter <= 0: \n",
    "                cnn_1d.load_state_dict(torch.load(check_point_filename)) # recover the best model so far\n",
    "                break\n",
    "        elapsed = float(timeit.default_timer() - start_time)\n",
    "        \n",
    "        if verbose == True:\n",
    "            train_auprc = sklearn.metrics.auc(train_rec, train_pr)\n",
    "            val_auprc = sklearn.metrics.auc(val_rec, val_pr)\n",
    "            print(\"Epoch %i took %.2fs. Train loss: %.4f acc: %.4f. auprc: %.4f. Val loss: %.4f acc: %.4f. auprc: %.4f. Patience left: %i\" % \n",
    "                  (epoch+1, elapsed, train_loss, train_acc, train_auprc, val_loss, val_acc, val_auprc, patience_counter ))\n",
    "    \n",
    "    return cnn_1d, train_accs, val_accs"
   ]
  },
  {
   "cell_type": "code",
   "execution_count": 23,
   "metadata": {
    "scrolled": true
   },
   "outputs": [
    {
     "name": "stderr",
     "output_type": "stream",
     "text": [
      "  0%|          | 166/72500 [00:00<00:43, 1650.94it/s]"
     ]
    },
    {
     "name": "stdout",
     "output_type": "stream",
     "text": [
      "Preparing a dataset...\n"
     ]
    },
    {
     "name": "stderr",
     "output_type": "stream",
     "text": [
      "100%|██████████| 72500/72500 [00:44<00:00, 1641.55it/s]\n",
      " 10%|█         | 161/1600 [00:00<00:00, 1601.01it/s]"
     ]
    },
    {
     "name": "stdout",
     "output_type": "stream",
     "text": [
      "Preparing a dataset...\n"
     ]
    },
    {
     "name": "stderr",
     "output_type": "stream",
     "text": [
      "100%|██████████| 1600/1600 [00:00<00:00, 1622.06it/s]\n",
      "Epoch 1: 100%|██████████| 1130/1130 [17:48<00:00,  1.06batch/s, batch_accuracy=57.1, loss=0.672]\n",
      "Epoch 1: 100%|██████████| 25/25 [00:09<00:00,  2.70batch/s, batch_accuracy=57.8, loss=0.606]\n",
      "Epoch 2:   0%|          | 0/1130 [00:00<?, ?batch/s]"
     ]
    },
    {
     "name": "stdout",
     "output_type": "stream",
     "text": [
      "Epoch 1 took 1077.81s. Train loss: 0.6407 acc: 0.6304. auprc: 0.5239. Val loss: 0.6875 acc: 0.5725. auprc: 0.7766. Patience left: 4\n"
     ]
    },
    {
     "name": "stderr",
     "output_type": "stream",
     "text": [
      "Epoch 2: 100%|██████████| 1130/1130 [17:47<00:00,  1.06batch/s, batch_accuracy=64.3, loss=0.589]\n",
      "Epoch 2: 100%|██████████| 25/25 [00:09<00:00,  2.71batch/s, batch_accuracy=46.9, loss=0.65] \n",
      "Epoch 3:   0%|          | 0/1130 [00:00<?, ?batch/s]"
     ]
    },
    {
     "name": "stdout",
     "output_type": "stream",
     "text": [
      "Epoch 2 took 1077.12s. Train loss: 0.5999 acc: 0.6711. auprc: 0.5802. Val loss: 0.6941 acc: 0.6181. auprc: 0.7738. Patience left: 3\n"
     ]
    },
    {
     "name": "stderr",
     "output_type": "stream",
     "text": [
      "Epoch 3: 100%|██████████| 1130/1130 [17:44<00:00,  1.06batch/s, batch_accuracy=61.9, loss=0.588]\n",
      "Epoch 3: 100%|██████████| 25/25 [00:09<00:00,  2.74batch/s, batch_accuracy=25, loss=0.855]  \n",
      "Epoch 4:   0%|          | 0/1130 [00:00<?, ?batch/s]"
     ]
    },
    {
     "name": "stdout",
     "output_type": "stream",
     "text": [
      "Epoch 3 took 1073.27s. Train loss: 0.5930 acc: 0.6783. auprc: 0.5930. Val loss: 0.6187 acc: 0.6950. auprc: 0.7776. Patience left: 4\n"
     ]
    },
    {
     "name": "stderr",
     "output_type": "stream",
     "text": [
      "Epoch 4: 100%|██████████| 1130/1130 [17:46<00:00,  1.06batch/s, batch_accuracy=73.8, loss=0.549]\n",
      "Epoch 4: 100%|██████████| 25/25 [00:09<00:00,  2.70batch/s, batch_accuracy=42.2, loss=0.621]\n",
      "Epoch 5:   0%|          | 0/1130 [00:00<?, ?batch/s]"
     ]
    },
    {
     "name": "stdout",
     "output_type": "stream",
     "text": [
      "Epoch 4 took 1076.10s. Train loss: 0.5891 acc: 0.6821. auprc: 0.5947. Val loss: 0.6761 acc: 0.6356. auprc: 0.7885. Patience left: 3\n"
     ]
    },
    {
     "name": "stderr",
     "output_type": "stream",
     "text": [
      "Epoch 5: 100%|██████████| 1130/1130 [17:42<00:00,  1.06batch/s, batch_accuracy=66.7, loss=0.555]\n",
      "Epoch 5: 100%|██████████| 25/25 [00:09<00:00,  2.74batch/s, batch_accuracy=53.1, loss=0.596]\n",
      "Epoch 6:   0%|          | 0/1130 [00:00<?, ?batch/s]"
     ]
    },
    {
     "name": "stdout",
     "output_type": "stream",
     "text": [
      "Epoch 5 took 1071.31s. Train loss: 0.5848 acc: 0.6851. auprc: 0.6049. Val loss: 0.7151 acc: 0.6100. auprc: 0.7803. Patience left: 2\n"
     ]
    },
    {
     "name": "stderr",
     "output_type": "stream",
     "text": [
      "Epoch 6: 100%|██████████| 1130/1130 [17:43<00:00,  1.06batch/s, batch_accuracy=61.9, loss=0.671]\n",
      "Epoch 6: 100%|██████████| 25/25 [00:09<00:00,  2.74batch/s, batch_accuracy=37.5, loss=0.672]\n",
      "Epoch 7:   0%|          | 0/1130 [00:00<?, ?batch/s]"
     ]
    },
    {
     "name": "stdout",
     "output_type": "stream",
     "text": [
      "Epoch 6 took 1072.67s. Train loss: 0.5826 acc: 0.6891. auprc: 0.6081. Val loss: 0.6716 acc: 0.6600. auprc: 0.7896. Patience left: 1\n"
     ]
    },
    {
     "name": "stderr",
     "output_type": "stream",
     "text": [
      "Epoch 7: 100%|██████████| 1130/1130 [17:43<00:00,  1.06batch/s, batch_accuracy=81, loss=0.477]  \n",
      "Epoch 7: 100%|██████████| 25/25 [00:09<00:00,  2.74batch/s, batch_accuracy=32.8, loss=0.792]\n"
     ]
    }
   ],
   "source": [
    "my_cnn1d = Anchor_CNN_LSTM(use_cnn=True, use_lstm=False)\n",
    "my_cnn1d, train_accs, val_accs = train_model(my_cnn1d, train_data, val_data)"
   ]
  },
  {
   "cell_type": "markdown",
   "metadata": {},
   "source": [
    "### Testing"
   ]
  },
  {
   "cell_type": "code",
   "execution_count": 24,
   "metadata": {},
   "outputs": [],
   "source": [
    "def test_model(model, testing_data=test_data):\n",
    "    device = torch.device(\"cuda\" if torch.cuda.is_available() else \"cpu\")\n",
    "    batch_size = 64\n",
    "    test_dataset = AnchorDataset(testing_data, genome, 800)\n",
    "    test_dataloader = torch.utils.data.DataLoader(test_dataset, batch_size=batch_size, num_workers = 0)\n",
    "    test_loss, test_acc, test_pr, test_rec = run_one_epoch(False, \n",
    "                                                   test_dataloader, \n",
    "                                                   model, \n",
    "                                                   None, \n",
    "                                                   device, \n",
    "                                                   math.ceil(len(test_dataset)/batch_size), \n",
    "                                                   0)\n",
    "    test_auprc = sklearn.metrics.auc(test_rec, test_pr)\n",
    "    return test_pr, test_rec, test_auprc"
   ]
  },
  {
   "cell_type": "code",
   "execution_count": 81,
   "metadata": {},
   "outputs": [
    {
     "name": "stderr",
     "output_type": "stream",
     "text": [
      "  3%|▎         | 164/5700 [00:00<00:03, 1635.42it/s]"
     ]
    },
    {
     "name": "stdout",
     "output_type": "stream",
     "text": [
      "Preparing a dataset...\n"
     ]
    },
    {
     "name": "stderr",
     "output_type": "stream",
     "text": [
      "100%|██████████| 5700/5700 [00:02<00:00, 1993.60it/s]\n",
      "Epoch 0: 100%|██████████| 75/75 [00:31<00:00,  2.40batch/s, batch_accuracy=85.3, loss=0.405] \n"
     ]
    }
   ],
   "source": [
    "test_pr, test_rec, test_auprc = test_model(my_cnn1d)"
   ]
  },
  {
   "cell_type": "code",
   "execution_count": 79,
   "metadata": {},
   "outputs": [
    {
     "data": {
      "text/plain": [
       "0.9489202174230047"
      ]
     },
     "execution_count": 79,
     "metadata": {},
     "output_type": "execute_result"
    }
   ],
   "source": [
    "test_auprc"
   ]
  },
  {
   "cell_type": "code",
   "execution_count": 27,
   "metadata": {},
   "outputs": [],
   "source": [
    "import matplotlib.pyplot as plt"
   ]
  },
  {
   "cell_type": "code",
   "execution_count": 28,
   "metadata": {},
   "outputs": [
    {
     "data": {
      "text/html": [
       "<div>\n",
       "<style scoped>\n",
       "    .dataframe tbody tr th:only-of-type {\n",
       "        vertical-align: middle;\n",
       "    }\n",
       "\n",
       "    .dataframe tbody tr th {\n",
       "        vertical-align: top;\n",
       "    }\n",
       "\n",
       "    .dataframe thead th {\n",
       "        text-align: right;\n",
       "    }\n",
       "</style>\n",
       "<table border=\"1\" class=\"dataframe\">\n",
       "  <thead>\n",
       "    <tr style=\"text-align: right;\">\n",
       "      <th></th>\n",
       "      <th>Unnamed: 0</th>\n",
       "      <th>chrom</th>\n",
       "      <th>start</th>\n",
       "      <th>end</th>\n",
       "      <th>anchor</th>\n",
       "    </tr>\n",
       "  </thead>\n",
       "  <tbody>\n",
       "    <tr>\n",
       "      <th>0</th>\n",
       "      <td>16263</td>\n",
       "      <td>chr8</td>\n",
       "      <td>135695883</td>\n",
       "      <td>135699883</td>\n",
       "      <td>1.0</td>\n",
       "    </tr>\n",
       "    <tr>\n",
       "      <th>1</th>\n",
       "      <td>13665</td>\n",
       "      <td>chr7</td>\n",
       "      <td>37547648</td>\n",
       "      <td>37551648</td>\n",
       "      <td>1.0</td>\n",
       "    </tr>\n",
       "    <tr>\n",
       "      <th>2</th>\n",
       "      <td>15599</td>\n",
       "      <td>chr8</td>\n",
       "      <td>72730268</td>\n",
       "      <td>72734268</td>\n",
       "      <td>1.0</td>\n",
       "    </tr>\n",
       "    <tr>\n",
       "      <th>3</th>\n",
       "      <td>13650</td>\n",
       "      <td>chr7</td>\n",
       "      <td>36478697</td>\n",
       "      <td>36482697</td>\n",
       "      <td>1.0</td>\n",
       "    </tr>\n",
       "    <tr>\n",
       "      <th>4</th>\n",
       "      <td>14432</td>\n",
       "      <td>chr7</td>\n",
       "      <td>122846716</td>\n",
       "      <td>122850716</td>\n",
       "      <td>1.0</td>\n",
       "    </tr>\n",
       "  </tbody>\n",
       "</table>\n",
       "</div>"
      ],
      "text/plain": [
       "   Unnamed: 0 chrom      start        end  anchor\n",
       "0       16263  chr8  135695883  135699883     1.0\n",
       "1       13665  chr7   37547648   37551648     1.0\n",
       "2       15599  chr8   72730268   72734268     1.0\n",
       "3       13650  chr7   36478697   36482697     1.0\n",
       "4       14432  chr7  122846716  122850716     1.0"
      ]
     },
     "execution_count": 28,
     "metadata": {},
     "output_type": "execute_result"
    }
   ],
   "source": [
    "test_data_positives = test_data[test_data['anchor']==1]\n",
    "test_na1 = pd.read_csv(data_dir + 'anchor_test_sets/non_anchor_type_1.csv')\n",
    "test_na1 = test_na1[test_na1['chrom'].isin(['chr7', 'chr8'])]\n",
    "test_na1['anchor']=0.0\n",
    "test_na1 = test_na1.sample(3666)\n",
    "final_test_na_1 = test_data_positives.append(test_na1)\n",
    "final_test_na_1.head()"
   ]
  },
  {
   "cell_type": "code",
   "execution_count": 29,
   "metadata": {},
   "outputs": [],
   "source": [
    "# test_na2 = pd.read_csv(data_dir + 'anchor_test_sets/non_anchor_type_2.csv')\n",
    "# test_na3 = pd.read_csv(data_dir + 'anchor_test_sets/non_anchor_type_3.csv')"
   ]
  },
  {
   "cell_type": "code",
   "execution_count": 45,
   "metadata": {},
   "outputs": [
    {
     "name": "stderr",
     "output_type": "stream",
     "text": [
      "  2%|▏         | 150/6666 [00:00<00:04, 1494.66it/s]"
     ]
    },
    {
     "name": "stdout",
     "output_type": "stream",
     "text": [
      "Preparing a dataset...\n"
     ]
    },
    {
     "name": "stderr",
     "output_type": "stream",
     "text": [
      "100%|██████████| 6666/6666 [00:04<00:00, 1636.94it/s]\n",
      "Epoch 1: 100%|██████████| 104/104 [00:38<00:00,  2.73batch/s, batch_accuracy=60, loss=0.618]  \n"
     ]
    }
   ],
   "source": [
    "test_pr1, test_rec1, test_auprc1 = test_model(my_cnn1d, final_test_na_1)"
   ]
  },
  {
   "cell_type": "code",
   "execution_count": 46,
   "metadata": {},
   "outputs": [
    {
     "data": {
      "text/plain": [
       "0.7485348060179605"
      ]
     },
     "execution_count": 46,
     "metadata": {},
     "output_type": "execute_result"
    }
   ],
   "source": [
    "test_auprc1"
   ]
  },
  {
   "cell_type": "code",
   "execution_count": 33,
   "metadata": {},
   "outputs": [
    {
     "data": {
      "text/html": [
       "<div>\n",
       "<style scoped>\n",
       "    .dataframe tbody tr th:only-of-type {\n",
       "        vertical-align: middle;\n",
       "    }\n",
       "\n",
       "    .dataframe tbody tr th {\n",
       "        vertical-align: top;\n",
       "    }\n",
       "\n",
       "    .dataframe thead th {\n",
       "        text-align: right;\n",
       "    }\n",
       "</style>\n",
       "<table border=\"1\" class=\"dataframe\">\n",
       "  <thead>\n",
       "    <tr style=\"text-align: right;\">\n",
       "      <th></th>\n",
       "      <th>Unnamed: 0</th>\n",
       "      <th>chrom</th>\n",
       "      <th>start</th>\n",
       "      <th>end</th>\n",
       "      <th>anchor</th>\n",
       "    </tr>\n",
       "  </thead>\n",
       "  <tbody>\n",
       "    <tr>\n",
       "      <th>2723</th>\n",
       "      <td>13800</td>\n",
       "      <td>chr7</td>\n",
       "      <td>49890363</td>\n",
       "      <td>49894363</td>\n",
       "      <td>1.0</td>\n",
       "    </tr>\n",
       "    <tr>\n",
       "      <th>1091</th>\n",
       "      <td>16153</td>\n",
       "      <td>chr8</td>\n",
       "      <td>126711477</td>\n",
       "      <td>126717011</td>\n",
       "      <td>1.0</td>\n",
       "    </tr>\n",
       "    <tr>\n",
       "      <th>252</th>\n",
       "      <td>15004</td>\n",
       "      <td>chr8</td>\n",
       "      <td>12722740</td>\n",
       "      <td>12727768</td>\n",
       "      <td>1.0</td>\n",
       "    </tr>\n",
       "    <tr>\n",
       "      <th>1328</th>\n",
       "      <td>15056</td>\n",
       "      <td>chr8</td>\n",
       "      <td>19969379</td>\n",
       "      <td>19973379</td>\n",
       "      <td>1.0</td>\n",
       "    </tr>\n",
       "    <tr>\n",
       "      <th>1801</th>\n",
       "      <td>15536</td>\n",
       "      <td>chr8</td>\n",
       "      <td>66472475</td>\n",
       "      <td>66476475</td>\n",
       "      <td>1.0</td>\n",
       "    </tr>\n",
       "  </tbody>\n",
       "</table>\n",
       "</div>"
      ],
      "text/plain": [
       "      Unnamed: 0 chrom      start        end  anchor\n",
       "2723       13800  chr7   49890363   49894363     1.0\n",
       "1091       16153  chr8  126711477  126717011     1.0\n",
       "252        15004  chr8   12722740   12727768     1.0\n",
       "1328       15056  chr8   19969379   19973379     1.0\n",
       "1801       15536  chr8   66472475   66476475     1.0"
      ]
     },
     "execution_count": 33,
     "metadata": {},
     "output_type": "execute_result"
    }
   ],
   "source": [
    "test_data_positives = test_data[test_data['anchor']==1]\n",
    "test_na2 = pd.read_csv(data_dir + 'anchor_test_sets/non_anchor_type_2.csv')\n",
    "test_na2 = test_na2[test_na2['chrom'].isin(['chr7', 'chr8'])]\n",
    "test_na2['anchor']=0.0\n",
    "test_data_positives = test_data_positives.sample(643)\n",
    "final_test_na_2 = test_data_positives.append(test_na2)\n",
    "final_test_na_2.head()"
   ]
  },
  {
   "cell_type": "code",
   "execution_count": 34,
   "metadata": {},
   "outputs": [
    {
     "name": "stderr",
     "output_type": "stream",
     "text": [
      "  3%|▎         | 145/5364 [00:00<00:03, 1449.33it/s]"
     ]
    },
    {
     "name": "stdout",
     "output_type": "stream",
     "text": [
      "Preparing a dataset...\n"
     ]
    },
    {
     "name": "stderr",
     "output_type": "stream",
     "text": [
      "100%|██████████| 5364/5364 [00:03<00:00, 1669.01it/s]\n",
      "Epoch 1: 100%|██████████| 84/84 [00:30<00:00,  2.73batch/s, batch_accuracy=97.9, loss=0.292]\n"
     ]
    },
    {
     "data": {
      "text/plain": [
       "0.9006655014853501"
      ]
     },
     "execution_count": 34,
     "metadata": {},
     "output_type": "execute_result"
    }
   ],
   "source": [
    "test_pr2, test_rec2, test_auprc2 = test_model(my_cnn1d, final_test_na_2)\n",
    "test_auprc2"
   ]
  },
  {
   "cell_type": "code",
   "execution_count": 35,
   "metadata": {},
   "outputs": [
    {
     "data": {
      "text/html": [
       "<div>\n",
       "<style scoped>\n",
       "    .dataframe tbody tr th:only-of-type {\n",
       "        vertical-align: middle;\n",
       "    }\n",
       "\n",
       "    .dataframe tbody tr th {\n",
       "        vertical-align: top;\n",
       "    }\n",
       "\n",
       "    .dataframe thead th {\n",
       "        text-align: right;\n",
       "    }\n",
       "</style>\n",
       "<table border=\"1\" class=\"dataframe\">\n",
       "  <thead>\n",
       "    <tr style=\"text-align: right;\">\n",
       "      <th></th>\n",
       "      <th>Unnamed: 0</th>\n",
       "      <th>chrom</th>\n",
       "      <th>start</th>\n",
       "      <th>end</th>\n",
       "      <th>anchor</th>\n",
       "    </tr>\n",
       "  </thead>\n",
       "  <tbody>\n",
       "    <tr>\n",
       "      <th>1226</th>\n",
       "      <td>16321</td>\n",
       "      <td>chr8</td>\n",
       "      <td>142035186</td>\n",
       "      <td>142039186</td>\n",
       "      <td>1.0</td>\n",
       "    </tr>\n",
       "    <tr>\n",
       "      <th>904</th>\n",
       "      <td>16011</td>\n",
       "      <td>chr8</td>\n",
       "      <td>113811787</td>\n",
       "      <td>113815787</td>\n",
       "      <td>1.0</td>\n",
       "    </tr>\n",
       "    <tr>\n",
       "      <th>251</th>\n",
       "      <td>16416</td>\n",
       "      <td>chr8</td>\n",
       "      <td>145732797</td>\n",
       "      <td>145736797</td>\n",
       "      <td>1.0</td>\n",
       "    </tr>\n",
       "    <tr>\n",
       "      <th>1076</th>\n",
       "      <td>15088</td>\n",
       "      <td>chr8</td>\n",
       "      <td>22286195</td>\n",
       "      <td>22290195</td>\n",
       "      <td>1.0</td>\n",
       "    </tr>\n",
       "    <tr>\n",
       "      <th>2263</th>\n",
       "      <td>14078</td>\n",
       "      <td>chr7</td>\n",
       "      <td>93850230</td>\n",
       "      <td>93854230</td>\n",
       "      <td>1.0</td>\n",
       "    </tr>\n",
       "  </tbody>\n",
       "</table>\n",
       "</div>"
      ],
      "text/plain": [
       "      Unnamed: 0 chrom      start        end  anchor\n",
       "1226       16321  chr8  142035186  142039186     1.0\n",
       "904        16011  chr8  113811787  113815787     1.0\n",
       "251        16416  chr8  145732797  145736797     1.0\n",
       "1076       15088  chr8   22286195   22290195     1.0\n",
       "2263       14078  chr7   93850230   93854230     1.0"
      ]
     },
     "execution_count": 35,
     "metadata": {},
     "output_type": "execute_result"
    }
   ],
   "source": [
    "test_data_positives = test_data[test_data['anchor']==1]\n",
    "test_na3 = pd.read_csv(data_dir + 'anchor_test_sets/non_anchor_type_2.csv')\n",
    "test_na3 = test_na2[test_na2['chrom'].isin(['chr7', 'chr8'])]\n",
    "test_na3['anchor']=0.0\n",
    "test_data_positives = test_data_positives.sample(382)\n",
    "final_test_na_3 = test_data_positives.append(test_na3)\n",
    "final_test_na_3.head()"
   ]
  },
  {
   "cell_type": "code",
   "execution_count": 36,
   "metadata": {},
   "outputs": [
    {
     "name": "stderr",
     "output_type": "stream",
     "text": [
      "  3%|▎         | 161/5103 [00:00<00:03, 1602.84it/s]"
     ]
    },
    {
     "name": "stdout",
     "output_type": "stream",
     "text": [
      "Preparing a dataset...\n"
     ]
    },
    {
     "name": "stderr",
     "output_type": "stream",
     "text": [
      "100%|██████████| 5103/5103 [00:03<00:00, 1676.38it/s]\n",
      "Epoch 1: 100%|██████████| 80/80 [00:29<00:00,  2.74batch/s, batch_accuracy=97.8, loss=0.296]\n"
     ]
    },
    {
     "data": {
      "text/plain": [
       "0.8537587682438184"
      ]
     },
     "execution_count": 36,
     "metadata": {},
     "output_type": "execute_result"
    }
   ],
   "source": [
    "test_pr3, test_rec3, test_auprc3 = test_model(my_cnn1d, final_test_na_3)\n",
    "test_auprc3"
   ]
  },
  {
   "cell_type": "code",
   "execution_count": 37,
   "metadata": {},
   "outputs": [
    {
     "data": {
      "image/png": "[encoded data removed]",
      "text/plain": [
       "<Figure size 432x288 with 1 Axes>"
      ]
     },
     "metadata": {
      "needs_background": "light"
     },
     "output_type": "display_data"
    }
   ],
   "source": [
    "plt.plot(test_rec1, test_pr1, color=\"red\", linestyle='-', label=f'non-anchor 1 (0.849)')\n",
    "plt.plot(test_rec2, test_pr2, color=\"orange\", linestyle='-.', label=f'non-anchor 2 (0.933)')\n",
    "plt.plot(test_rec3, test_pr3, color=\"blue\", linestyle='-', label=f'non-anchor 3 (0.904)')\n",
    "# axis labels\n",
    "plt.xlabel('Recall')\n",
    "plt.ylabel('Precision')\n",
    "plt.legend()\n",
    "plt.show()"
   ]
  },
  {
   "cell_type": "code",
   "execution_count": null,
   "metadata": {},
   "outputs": [],
   "source": []
  },
  {
   "cell_type": "code",
   "execution_count": null,
   "metadata": {},
   "outputs": [],
   "source": [
    "#evaluate on lstm+cnn then make the plot"
   ]
  },
  {
   "cell_type": "code",
   "execution_count": 38,
   "metadata": {},
   "outputs": [
    {
     "data": {
      "text/plain": [
       "<All keys matched successfully>"
      ]
     },
     "execution_count": 38,
     "metadata": {},
     "output_type": "execute_result"
    }
   ],
   "source": [
    "model1 = Anchor_CNN_LSTM(use_cnn=True, use_lstm=True).to(\"cuda\")\n",
    "model1.load_state_dict(torch.load('./data/anchor_model_checkpoint_lstm_cnn.pt'))"
   ]
  },
  {
   "cell_type": "code",
   "execution_count": 39,
   "metadata": {},
   "outputs": [
    {
     "name": "stderr",
     "output_type": "stream",
     "text": [
      "  2%|▏         | 164/6666 [00:00<00:03, 1635.83it/s]"
     ]
    },
    {
     "name": "stdout",
     "output_type": "stream",
     "text": [
      "Preparing a dataset...\n"
     ]
    },
    {
     "name": "stderr",
     "output_type": "stream",
     "text": [
      "100%|██████████| 6666/6666 [00:03<00:00, 1670.76it/s]\n",
      "Epoch 1: 100%|██████████| 104/104 [00:43<00:00,  2.37batch/s, batch_accuracy=28.9, loss=1.16] \n"
     ]
    }
   ],
   "source": [
    "m1_test_pr1, m1_test_rec1, m1_test_auprc1 = test_model(model1, final_test_na_1)"
   ]
  },
  {
   "cell_type": "code",
   "execution_count": 40,
   "metadata": {},
   "outputs": [
    {
     "data": {
      "text/plain": [
       "(0.8318950634519268,)"
      ]
     },
     "execution_count": 40,
     "metadata": {},
     "output_type": "execute_result"
    }
   ],
   "source": [
    "m1_test_auprc1, "
   ]
  },
  {
   "cell_type": "code",
   "execution_count": 41,
   "metadata": {},
   "outputs": [
    {
     "data": {
      "text/plain": [
       "<All keys matched successfully>"
      ]
     },
     "execution_count": 41,
     "metadata": {},
     "output_type": "execute_result"
    }
   ],
   "source": [
    "model2 = Anchor_CNN_LSTM(use_cnn=False, use_lstm=True).to(\"cuda\")\n",
    "model2.load_state_dict(torch.load('./data/anchor_model_checkpoint_lstm.pt'))"
   ]
  },
  {
   "cell_type": "code",
   "execution_count": 42,
   "metadata": {},
   "outputs": [
    {
     "name": "stderr",
     "output_type": "stream",
     "text": [
      "  2%|▏         | 143/6666 [00:00<00:04, 1428.35it/s]"
     ]
    },
    {
     "name": "stdout",
     "output_type": "stream",
     "text": [
      "Preparing a dataset...\n"
     ]
    },
    {
     "name": "stderr",
     "output_type": "stream",
     "text": [
      "100%|██████████| 6666/6666 [00:03<00:00, 1678.33it/s]\n",
      "Epoch 1: 100%|██████████| 104/104 [00:05<00:00, 18.04batch/s, batch_accuracy=0, loss=1.13]   \n"
     ]
    }
   ],
   "source": [
    "m2_test_pr1, m2_test_rec1, m2_test_auprc1 = test_model(model2, final_test_na_1)"
   ]
  },
  {
   "cell_type": "code",
   "execution_count": 48,
   "metadata": {},
   "outputs": [
    {
     "data": {
      "image/png": "[encoded data removed]",
      "text/plain": [
       "<Figure size 432x288 with 1 Axes>"
      ]
     },
     "metadata": {
      "needs_background": "light"
     },
     "output_type": "display_data"
    }
   ],
   "source": [
    "plt.plot(m1_test_rec1, m1_test_pr1, color=\"red\", linestyle=':', label=f'CNN + LSTM (0.849)')\n",
    "plt.plot(test_rec1, test_pr1, color=\"red\", linestyle='-.', label=f'CNN (0.748)')\n",
    "plt.plot(m2_test_rec1, m2_test_pr1, color=\"red\", linestyle='-', label=f'LSTM (0.664)')\n",
    "# axis labels\n",
    "plt.xlabel('Recall')\n",
    "plt.ylabel('Precision')\n",
    "plt.legend()\n",
    "plt.show()"
   ]
  },
  {
   "cell_type": "code",
   "execution_count": null,
   "metadata": {},
   "outputs": [],
   "source": []
  }
 ],
 "metadata": {
  "kernelspec": {
   "display_name": "Python 3",
   "language": "python",
   "name": "python3"
  },
  "language_info": {
   "codemirror_mode": {
    "name": "ipython",
    "version": 3
   },
   "file_extension": ".py",
   "mimetype": "text/x-python",
   "name": "python",
   "nbconvert_exporter": "python",
   "pygments_lexer": "ipython3",
   "version": "3.8.5"
  }
 },
 "nbformat": 4,
 "nbformat_minor": 4
}
